{
  "nbformat": 4,
  "nbformat_minor": 0,
  "metadata": {
    "colab": {
      "name": "Customer Churn .ipynb",
      "version": "0.3.2",
      "provenance": [],
      "collapsed_sections": [],
      "include_colab_link": true
    },
    "kernelspec": {
      "name": "python3",
      "display_name": "Python 3"
    }
  },
  "cells": [
    {
      "cell_type": "markdown",
      "metadata": {
        "id": "view-in-github",
        "colab_type": "text"
      },
      "source": [
        "<a href=\"https://colab.research.google.com/github/Albina1810/ML-projects/blob/master/Customer_Churn_.ipynb\" target=\"_parent\"><img src=\"https://colab.research.google.com/assets/colab-badge.svg\" alt=\"Open In Colab\"/></a>"
      ]
    },
    {
      "cell_type": "markdown",
      "metadata": {
        "id": "wCYqqhIpdZf-",
        "colab_type": "text"
      },
      "source": [
        "# Individual Assignment # 3  CUSTOMERS CHURN\n",
        "###BAX 453 Albina Joldassova\n",
        "\n",
        "\n"
      ]
    },
    {
      "cell_type": "markdown",
      "metadata": {
        "id": "xZ2NirFO11OM",
        "colab_type": "text"
      },
      "source": [
        "![alt text](https://www.dunnsolutions.com/content/image/journal/article?img_id=879816&t=1549912363904)"
      ]
    },
    {
      "cell_type": "markdown",
      "metadata": {
        "id": "hS3BN8idfSN2",
        "colab_type": "text"
      },
      "source": [
        "# 1. Business **Understanding** \n",
        "\n",
        "There are three possible strategies those businesses can use to generate more revenue: acquire more customers, upsell existing customers, or increase customer retention.\n",
        "\n",
        "Customer churn, customer turnover, or customer attrition, is the loss of clients or customers.\n",
        "Companies use customer churn analysis and customer attrition rates as one of their key business metrics because the cost of retaining an existing customer is far less than acquiring a new one. \n",
        "Companies from retail and srvices sectors often have analysts  that help to  the companies to win back leaving  clients, because recovered long-term customers can be worth much more to a company than newly recruited clients.\n",
        "\n",
        "We have a data which classified if  a customer churn or not and what attributes this customer has. Based on these attributes, we will try  to create the model which predicts if a customer  has a risk to churn in the future.\n",
        "\n",
        "The basic layer for predicting future customer churn is data from the past. We look at data from customers that already have churned (response) and their characteristics / behaviour (predictors) before the churn happened. By fitting a statistical model that relates the predictors to the response, we will try to predict the response for existing customers. This method belongs to the supervised learning category"
      ]
    },
    {
      "cell_type": "markdown",
      "metadata": {
        "id": "0QW9tPcfhkpn",
        "colab_type": "text"
      },
      "source": [
        "# **2. Data Understanding**\n",
        "\n",
        " **The objective** of the dataset is to  predict whether or not a customer  is about to churn. \n",
        " \n",
        " ** Dataset source:**   https://www.kaggle.com/blastchar/telco-customer-churn\n",
        " \n",
        "\n",
        "\n",
        "\n",
        "The raw data contains 7043 rows (customers) and 21 columns (features). The “Churn” column is our target.\n",
        "\n",
        "\n",
        "Attribute Information:\n",
        "\n",
        "* **customerID**  Customer ID\n",
        "\n",
        "* **gender** Whether the customer is a male or a female\n",
        "\n",
        "* **SeniorCitizen** Whether the customer is a senior citizen or not (1, 0)\n",
        "\n",
        "* **Partner** Whether the customer has a partner or not (Yes, No)\n",
        "\n",
        "* **Dependents** Whether the customer has dependents or not (Yes, No)\n",
        "\n",
        "* **tenure** Number of months the customer has stayed with the company\n",
        "\n",
        "* **PhoneService** Whether the customer has a phone service or not (Yes, No)\n",
        "\n",
        "* **MultipleLines** Whether the customer has multiple lines or not (Yes, No, No phone service)\n",
        "\n",
        "* **InternetService** Customer’s internet service provider (DSL, Fiber optic, No)\n",
        "\n",
        "* **OnlineSecurity** Whether the customer has online security or not (Yes, No, No internet service)\n",
        "\n",
        "* **OnlineBackup** Whether the customer has online backup or not (Yes, No, No internet service)\n",
        "\n",
        "* **DeviceProtection** Whether the customer has device protection or not (Yes, No, No internet service)\n",
        "\n",
        "* **TechSupport**  Whether the customer has tech support or not (Yes, No, No internet service)\n",
        "\n",
        "* **StreamingTV** Whether the customer has streaming TV or not (Yes, No, No internet service)\n",
        "\n",
        "* **StreamingMovies** Whether the customer has streaming movies or not (Yes, No, No internet service)\n",
        "\n",
        "* **Contract** The contract term of the customer (Month-to-month, One year, Two year)\n",
        "\n",
        "* **PaperlessBilling** Whether the customer has paperless billing or not (Yes, No)\n",
        "\n",
        "* **PaymentMethod** The customer’s payment method (Electronic check, Mailed check, Bank transfer (automatic), Credit card (automatic))\n",
        "\n",
        "* **MonthlyCharges** The amount charged to the customer monthly\n",
        "\n",
        "* **TotalCharges** The total amount charged to the customer\n",
        "\n",
        "* **ChurnWhether the customer churned or not (Yes or No)\n"
      ]
    },
    {
      "cell_type": "markdown",
      "metadata": {
        "id": "xeIcykvZjHbS",
        "colab_type": "text"
      },
      "source": [
        "\n",
        "### Data Ingest\n"
      ]
    },
    {
      "cell_type": "code",
      "metadata": {
        "id": "vtctEKBIkuu2",
        "colab_type": "code",
        "colab": {}
      },
      "source": [
        "import pandas as pd\n",
        "import numpy as np"
      ],
      "execution_count": 0,
      "outputs": []
    },
    {
      "cell_type": "markdown",
      "metadata": {
        "id": "pxPfzotKlJps",
        "colab_type": "text"
      },
      "source": [
        ""
      ]
    },
    {
      "cell_type": "code",
      "metadata": {
        "id": "rwtFQru5K9KB",
        "colab_type": "code",
        "colab": {}
      },
      "source": [
        "from google.colab import files\n",
        "files.upload()"
      ],
      "execution_count": 0,
      "outputs": []
    },
    {
      "cell_type": "code",
      "metadata": {
        "id": "qOBDwiK8lj8z",
        "colab_type": "code",
        "outputId": "1a16ebd6-e66f-42a4-a0ae-bf02546a128f",
        "colab": {
          "base_uri": "https://localhost:8080/",
          "height": 305
        }
      },
      "source": [
        "## read data\n",
        "data = pd.read_csv(\"WA_Fn-UseC_-Telco-Customer-Churn.csv\")\n",
        "data.head()"
      ],
      "execution_count": 0,
      "outputs": [
        {
          "output_type": "execute_result",
          "data": {
            "text/html": [
              "<div>\n",
              "<style scoped>\n",
              "    .dataframe tbody tr th:only-of-type {\n",
              "        vertical-align: middle;\n",
              "    }\n",
              "\n",
              "    .dataframe tbody tr th {\n",
              "        vertical-align: top;\n",
              "    }\n",
              "\n",
              "    .dataframe thead th {\n",
              "        text-align: right;\n",
              "    }\n",
              "</style>\n",
              "<table border=\"1\" class=\"dataframe\">\n",
              "  <thead>\n",
              "    <tr style=\"text-align: right;\">\n",
              "      <th></th>\n",
              "      <th>customerID</th>\n",
              "      <th>gender</th>\n",
              "      <th>SeniorCitizen</th>\n",
              "      <th>Partner</th>\n",
              "      <th>Dependents</th>\n",
              "      <th>tenure</th>\n",
              "      <th>PhoneService</th>\n",
              "      <th>MultipleLines</th>\n",
              "      <th>InternetService</th>\n",
              "      <th>OnlineSecurity</th>\n",
              "      <th>OnlineBackup</th>\n",
              "      <th>DeviceProtection</th>\n",
              "      <th>TechSupport</th>\n",
              "      <th>StreamingTV</th>\n",
              "      <th>StreamingMovies</th>\n",
              "      <th>Contract</th>\n",
              "      <th>PaperlessBilling</th>\n",
              "      <th>PaymentMethod</th>\n",
              "      <th>MonthlyCharges</th>\n",
              "      <th>TotalCharges</th>\n",
              "      <th>Churn</th>\n",
              "    </tr>\n",
              "  </thead>\n",
              "  <tbody>\n",
              "    <tr>\n",
              "      <th>0</th>\n",
              "      <td>7590-VHVEG</td>\n",
              "      <td>Female</td>\n",
              "      <td>0</td>\n",
              "      <td>Yes</td>\n",
              "      <td>No</td>\n",
              "      <td>1</td>\n",
              "      <td>No</td>\n",
              "      <td>No phone service</td>\n",
              "      <td>DSL</td>\n",
              "      <td>No</td>\n",
              "      <td>Yes</td>\n",
              "      <td>No</td>\n",
              "      <td>No</td>\n",
              "      <td>No</td>\n",
              "      <td>No</td>\n",
              "      <td>Month-to-month</td>\n",
              "      <td>Yes</td>\n",
              "      <td>Electronic check</td>\n",
              "      <td>29.85</td>\n",
              "      <td>29.85</td>\n",
              "      <td>No</td>\n",
              "    </tr>\n",
              "    <tr>\n",
              "      <th>1</th>\n",
              "      <td>5575-GNVDE</td>\n",
              "      <td>Male</td>\n",
              "      <td>0</td>\n",
              "      <td>No</td>\n",
              "      <td>No</td>\n",
              "      <td>34</td>\n",
              "      <td>Yes</td>\n",
              "      <td>No</td>\n",
              "      <td>DSL</td>\n",
              "      <td>Yes</td>\n",
              "      <td>No</td>\n",
              "      <td>Yes</td>\n",
              "      <td>No</td>\n",
              "      <td>No</td>\n",
              "      <td>No</td>\n",
              "      <td>One year</td>\n",
              "      <td>No</td>\n",
              "      <td>Mailed check</td>\n",
              "      <td>56.95</td>\n",
              "      <td>1889.5</td>\n",
              "      <td>No</td>\n",
              "    </tr>\n",
              "    <tr>\n",
              "      <th>2</th>\n",
              "      <td>3668-QPYBK</td>\n",
              "      <td>Male</td>\n",
              "      <td>0</td>\n",
              "      <td>No</td>\n",
              "      <td>No</td>\n",
              "      <td>2</td>\n",
              "      <td>Yes</td>\n",
              "      <td>No</td>\n",
              "      <td>DSL</td>\n",
              "      <td>Yes</td>\n",
              "      <td>Yes</td>\n",
              "      <td>No</td>\n",
              "      <td>No</td>\n",
              "      <td>No</td>\n",
              "      <td>No</td>\n",
              "      <td>Month-to-month</td>\n",
              "      <td>Yes</td>\n",
              "      <td>Mailed check</td>\n",
              "      <td>53.85</td>\n",
              "      <td>108.15</td>\n",
              "      <td>Yes</td>\n",
              "    </tr>\n",
              "    <tr>\n",
              "      <th>3</th>\n",
              "      <td>7795-CFOCW</td>\n",
              "      <td>Male</td>\n",
              "      <td>0</td>\n",
              "      <td>No</td>\n",
              "      <td>No</td>\n",
              "      <td>45</td>\n",
              "      <td>No</td>\n",
              "      <td>No phone service</td>\n",
              "      <td>DSL</td>\n",
              "      <td>Yes</td>\n",
              "      <td>No</td>\n",
              "      <td>Yes</td>\n",
              "      <td>Yes</td>\n",
              "      <td>No</td>\n",
              "      <td>No</td>\n",
              "      <td>One year</td>\n",
              "      <td>No</td>\n",
              "      <td>Bank transfer (automatic)</td>\n",
              "      <td>42.30</td>\n",
              "      <td>1840.75</td>\n",
              "      <td>No</td>\n",
              "    </tr>\n",
              "    <tr>\n",
              "      <th>4</th>\n",
              "      <td>9237-HQITU</td>\n",
              "      <td>Female</td>\n",
              "      <td>0</td>\n",
              "      <td>No</td>\n",
              "      <td>No</td>\n",
              "      <td>2</td>\n",
              "      <td>Yes</td>\n",
              "      <td>No</td>\n",
              "      <td>Fiber optic</td>\n",
              "      <td>No</td>\n",
              "      <td>No</td>\n",
              "      <td>No</td>\n",
              "      <td>No</td>\n",
              "      <td>No</td>\n",
              "      <td>No</td>\n",
              "      <td>Month-to-month</td>\n",
              "      <td>Yes</td>\n",
              "      <td>Electronic check</td>\n",
              "      <td>70.70</td>\n",
              "      <td>151.65</td>\n",
              "      <td>Yes</td>\n",
              "    </tr>\n",
              "  </tbody>\n",
              "</table>\n",
              "</div>"
            ],
            "text/plain": [
              "   customerID  gender  SeniorCitizen  ... MonthlyCharges TotalCharges  Churn\n",
              "0  7590-VHVEG  Female              0  ...          29.85        29.85     No\n",
              "1  5575-GNVDE    Male              0  ...          56.95       1889.5     No\n",
              "2  3668-QPYBK    Male              0  ...          53.85       108.15    Yes\n",
              "3  7795-CFOCW    Male              0  ...          42.30      1840.75     No\n",
              "4  9237-HQITU  Female              0  ...          70.70       151.65    Yes\n",
              "\n",
              "[5 rows x 21 columns]"
            ]
          },
          "metadata": {
            "tags": []
          },
          "execution_count": 139
        }
      ]
    },
    {
      "cell_type": "code",
      "metadata": {
        "id": "Pkd9r5KIEvdd",
        "colab_type": "code",
        "outputId": "65bebbbe-0d6e-4d5e-d1b3-55befac1a4b4",
        "colab": {
          "base_uri": "https://localhost:8080/",
          "height": 35
        }
      },
      "source": [
        "## data size: 303 rows, and 14 columns\n",
        "data.shape"
      ],
      "execution_count": 0,
      "outputs": [
        {
          "output_type": "execute_result",
          "data": {
            "text/plain": [
              "(7043, 21)"
            ]
          },
          "metadata": {
            "tags": []
          },
          "execution_count": 93
        }
      ]
    },
    {
      "cell_type": "code",
      "metadata": {
        "id": "Z1H1p3Cvl9if",
        "colab_type": "code",
        "outputId": "bf7b5efc-10da-4c56-8893-bbdb296c9556",
        "colab": {
          "base_uri": "https://localhost:8080/",
          "height": 397
        }
      },
      "source": [
        "##  Data has no missing values\n",
        "data.isnull().sum() "
      ],
      "execution_count": 0,
      "outputs": [
        {
          "output_type": "execute_result",
          "data": {
            "text/plain": [
              "customerID          0\n",
              "gender              0\n",
              "SeniorCitizen       0\n",
              "Partner             0\n",
              "Dependents          0\n",
              "tenure              0\n",
              "PhoneService        0\n",
              "MultipleLines       0\n",
              "InternetService     0\n",
              "OnlineSecurity      0\n",
              "OnlineBackup        0\n",
              "DeviceProtection    0\n",
              "TechSupport         0\n",
              "StreamingTV         0\n",
              "StreamingMovies     0\n",
              "Contract            0\n",
              "PaperlessBilling    0\n",
              "PaymentMethod       0\n",
              "MonthlyCharges      0\n",
              "TotalCharges        0\n",
              "Churn               0\n",
              "dtype: int64"
            ]
          },
          "metadata": {
            "tags": []
          },
          "execution_count": 94
        }
      ]
    },
    {
      "cell_type": "code",
      "metadata": {
        "id": "4TVhWsusJ4aL",
        "colab_type": "code",
        "outputId": "f3cc6393-8211-451a-f25d-39679afcfafb",
        "colab": {
          "base_uri": "https://localhost:8080/",
          "height": 432
        }
      },
      "source": [
        "print (\"\\nUnique values :  \\n\",data.nunique())"
      ],
      "execution_count": 0,
      "outputs": [
        {
          "output_type": "stream",
          "text": [
            "\n",
            "Unique values :  \n",
            " customerID          7043\n",
            "gender                 2\n",
            "SeniorCitizen          2\n",
            "Partner                2\n",
            "Dependents             2\n",
            "tenure                73\n",
            "PhoneService           2\n",
            "MultipleLines          3\n",
            "InternetService        3\n",
            "OnlineSecurity         3\n",
            "OnlineBackup           3\n",
            "DeviceProtection       3\n",
            "TechSupport            3\n",
            "StreamingTV            3\n",
            "StreamingMovies        3\n",
            "Contract               3\n",
            "PaperlessBilling       2\n",
            "PaymentMethod          4\n",
            "MonthlyCharges      1585\n",
            "TotalCharges        6531\n",
            "Churn                  2\n",
            "dtype: int64\n"
          ],
          "name": "stdout"
        }
      ]
    },
    {
      "cell_type": "code",
      "metadata": {
        "id": "k6yK6om6MAsS",
        "colab_type": "code",
        "outputId": "0ef528c6-859f-488e-b8f6-7a0fbfee8b87",
        "colab": {
          "base_uri": "https://localhost:8080/",
          "height": 397
        }
      },
      "source": [
        "data.dtypes"
      ],
      "execution_count": 0,
      "outputs": [
        {
          "output_type": "execute_result",
          "data": {
            "text/plain": [
              "customerID           object\n",
              "gender               object\n",
              "SeniorCitizen         int64\n",
              "Partner              object\n",
              "Dependents           object\n",
              "tenure                int64\n",
              "PhoneService         object\n",
              "MultipleLines        object\n",
              "InternetService      object\n",
              "OnlineSecurity       object\n",
              "OnlineBackup         object\n",
              "DeviceProtection     object\n",
              "TechSupport          object\n",
              "StreamingTV          object\n",
              "StreamingMovies      object\n",
              "Contract             object\n",
              "PaperlessBilling     object\n",
              "PaymentMethod        object\n",
              "MonthlyCharges      float64\n",
              "TotalCharges         object\n",
              "Churn                object\n",
              "dtype: object"
            ]
          },
          "metadata": {
            "tags": []
          },
          "execution_count": 96
        }
      ]
    },
    {
      "cell_type": "markdown",
      "metadata": {
        "id": "t0rPu2lyps3j",
        "colab_type": "text"
      },
      "source": [
        "\n",
        "\n",
        "\n",
        "### Explaratory Data Analysis\n",
        "\n"
      ]
    },
    {
      "cell_type": "markdown",
      "metadata": {
        "id": "raCRyrdBotrP",
        "colab_type": "text"
      },
      "source": [
        "We are trying to predict if the client left the company in the previous month. Therefore we have a binary classification problem with a slightly unbalanced target:\n",
        "\n",
        "Churn: No - 72.4%\n",
        "Churn: Yes - 27.6%\n",
        "\n",
        "\n",
        "\n",
        "From the plots above we can conclude that:\n",
        "\n",
        "*  Recent clients are more likely to churn\n",
        "\n",
        "* Clients with higher MonthlyCharges are also more likely to churn\n",
        "\n",
        "* Tenure and MonthlyCharges are probably important features"
      ]
    },
    {
      "cell_type": "code",
      "metadata": {
        "id": "3HJa2eHJmZcI",
        "colab_type": "code",
        "outputId": "423ad747-1434-4140-c3a8-f4230407f1d0",
        "colab": {
          "base_uri": "https://localhost:8080/",
          "height": 206
        }
      },
      "source": [
        "ax = sns.catplot(y=\"Churn\", kind=\"count\", data=data, height=2.6, aspect=2.5, orient='h')"
      ],
      "execution_count": 0,
      "outputs": [
        {
          "output_type": "display_data",
          "data": {
            "image/png": "[encoded data removed]",
            "text/plain": [
              "<Figure size 468x187.2 with 1 Axes>"
            ]
          },
          "metadata": {
            "tags": []
          }
        }
      ]
    },
    {
      "cell_type": "code",
      "metadata": {
        "id": "qBJqlN6hpBdJ",
        "colab_type": "code",
        "outputId": "1bdabf24-b669-4384-89ef-515612284e06",
        "colab": {
          "base_uri": "https://localhost:8080/",
          "height": 543
        }
      },
      "source": [
        "def kdeplot(feature):\n",
        "    plt.figure(figsize=(9, 4))\n",
        "    plt.title(\"KDE for {}\".format(feature))\n",
        "    ax0 = sns.kdeplot(data[data['Churn'] == 'No'][feature].dropna(), color= 'navy', label= 'Churn: No')\n",
        "    ax1 = sns.kdeplot(data[data['Churn'] == 'Yes'][feature].dropna(), color= 'orange', label= 'Churn: Yes')\n",
        "kdeplot('tenure')\n",
        "kdeplot('MonthlyCharges')\n"
      ],
      "execution_count": 0,
      "outputs": [
        {
          "output_type": "display_data",
          "data": {
            "image/png": "[encoded data removed]",
            "text/plain": [
              "<Figure size 648x288 with 1 Axes>"
            ]
          },
          "metadata": {
            "tags": []
          }
        },
        {
          "output_type": "display_data",
          "data": {
            "image/png": "[encoded data removed]",
            "text/plain": [
              "<Figure size 648x288 with 1 Axes>"
            ]
          },
          "metadata": {
            "tags": []
          }
        }
      ]
    },
    {
      "cell_type": "markdown",
      "metadata": {
        "id": "_0n70dtu6kPm",
        "colab_type": "text"
      },
      "source": [
        "# 3.Data Preparation\n",
        "\n",
        "It's a clean, easy to understand set of data. No missing values,  no need of  data cleaning.\n",
        "\n",
        "\n",
        "To prepare data for ML, we have to define independent and dependent variables, and also split the dataset into train and test sets.\n",
        "\n",
        "\n",
        "We also need to convert all strings into numerical data in order to build classification model and assess correlation. As we cannot calculate anything with string values, we have to convert these values intro numeric ones."
      ]
    },
    {
      "cell_type": "markdown",
      "metadata": {
        "id": "CiJpujyOMFRN",
        "colab_type": "text"
      },
      "source": [
        ""
      ]
    },
    {
      "cell_type": "code",
      "metadata": {
        "id": "f1dSbceyMHsU",
        "colab_type": "code",
        "colab": {}
      },
      "source": [
        "\n",
        "#Replacing spaces with null values in total charges column\n",
        "data['TotalCharges'] = data[\"TotalCharges\"].replace(\" \",np.nan)\n",
        "\n",
        "#Dropping null values from total charges column which contain .15% missing data \n",
        "data = data[data[\"TotalCharges\"].notnull()]\n",
        "data = data.reset_index()[data.columns]\n",
        "\n",
        "#convert to float type\n",
        "data[\"TotalCharges\"] = data[\"TotalCharges\"].astype(float)\n",
        "\n",
        "#replace 'No internet service' to No for the following columns\n",
        "replace_cols = [ 'OnlineSecurity', 'OnlineBackup', 'DeviceProtection',\n",
        "                'TechSupport','StreamingTV', 'StreamingMovies']\n",
        "for i in replace_cols : \n",
        "    data[i]  = data[i].replace({'No internet service' : 'No'})\n",
        "    \n"
      ],
      "execution_count": 0,
      "outputs": []
    },
    {
      "cell_type": "code",
      "metadata": {
        "id": "oRCQ2-ZEPxZn",
        "colab_type": "code",
        "outputId": "b56b87b2-b042-4f36-a46f-3dca93d566ca",
        "colab": {
          "base_uri": "https://localhost:8080/",
          "height": 305
        }
      },
      "source": [
        "data.head()"
      ],
      "execution_count": 0,
      "outputs": [
        {
          "output_type": "execute_result",
          "data": {
            "text/html": [
              "<div>\n",
              "<style scoped>\n",
              "    .dataframe tbody tr th:only-of-type {\n",
              "        vertical-align: middle;\n",
              "    }\n",
              "\n",
              "    .dataframe tbody tr th {\n",
              "        vertical-align: top;\n",
              "    }\n",
              "\n",
              "    .dataframe thead th {\n",
              "        text-align: right;\n",
              "    }\n",
              "</style>\n",
              "<table border=\"1\" class=\"dataframe\">\n",
              "  <thead>\n",
              "    <tr style=\"text-align: right;\">\n",
              "      <th></th>\n",
              "      <th>customerID</th>\n",
              "      <th>gender</th>\n",
              "      <th>SeniorCitizen</th>\n",
              "      <th>Partner</th>\n",
              "      <th>Dependents</th>\n",
              "      <th>tenure</th>\n",
              "      <th>PhoneService</th>\n",
              "      <th>MultipleLines</th>\n",
              "      <th>InternetService</th>\n",
              "      <th>OnlineSecurity</th>\n",
              "      <th>OnlineBackup</th>\n",
              "      <th>DeviceProtection</th>\n",
              "      <th>TechSupport</th>\n",
              "      <th>StreamingTV</th>\n",
              "      <th>StreamingMovies</th>\n",
              "      <th>Contract</th>\n",
              "      <th>PaperlessBilling</th>\n",
              "      <th>PaymentMethod</th>\n",
              "      <th>MonthlyCharges</th>\n",
              "      <th>TotalCharges</th>\n",
              "      <th>Churn</th>\n",
              "    </tr>\n",
              "  </thead>\n",
              "  <tbody>\n",
              "    <tr>\n",
              "      <th>0</th>\n",
              "      <td>7590-VHVEG</td>\n",
              "      <td>Female</td>\n",
              "      <td>0</td>\n",
              "      <td>Yes</td>\n",
              "      <td>No</td>\n",
              "      <td>1</td>\n",
              "      <td>No</td>\n",
              "      <td>No phone service</td>\n",
              "      <td>DSL</td>\n",
              "      <td>No</td>\n",
              "      <td>Yes</td>\n",
              "      <td>No</td>\n",
              "      <td>No</td>\n",
              "      <td>No</td>\n",
              "      <td>No</td>\n",
              "      <td>Month-to-month</td>\n",
              "      <td>Yes</td>\n",
              "      <td>Electronic check</td>\n",
              "      <td>29.85</td>\n",
              "      <td>29.85</td>\n",
              "      <td>No</td>\n",
              "    </tr>\n",
              "    <tr>\n",
              "      <th>1</th>\n",
              "      <td>5575-GNVDE</td>\n",
              "      <td>Male</td>\n",
              "      <td>0</td>\n",
              "      <td>No</td>\n",
              "      <td>No</td>\n",
              "      <td>34</td>\n",
              "      <td>Yes</td>\n",
              "      <td>No</td>\n",
              "      <td>DSL</td>\n",
              "      <td>Yes</td>\n",
              "      <td>No</td>\n",
              "      <td>Yes</td>\n",
              "      <td>No</td>\n",
              "      <td>No</td>\n",
              "      <td>No</td>\n",
              "      <td>One year</td>\n",
              "      <td>No</td>\n",
              "      <td>Mailed check</td>\n",
              "      <td>56.95</td>\n",
              "      <td>1889.50</td>\n",
              "      <td>No</td>\n",
              "    </tr>\n",
              "    <tr>\n",
              "      <th>2</th>\n",
              "      <td>3668-QPYBK</td>\n",
              "      <td>Male</td>\n",
              "      <td>0</td>\n",
              "      <td>No</td>\n",
              "      <td>No</td>\n",
              "      <td>2</td>\n",
              "      <td>Yes</td>\n",
              "      <td>No</td>\n",
              "      <td>DSL</td>\n",
              "      <td>Yes</td>\n",
              "      <td>Yes</td>\n",
              "      <td>No</td>\n",
              "      <td>No</td>\n",
              "      <td>No</td>\n",
              "      <td>No</td>\n",
              "      <td>Month-to-month</td>\n",
              "      <td>Yes</td>\n",
              "      <td>Mailed check</td>\n",
              "      <td>53.85</td>\n",
              "      <td>108.15</td>\n",
              "      <td>Yes</td>\n",
              "    </tr>\n",
              "    <tr>\n",
              "      <th>3</th>\n",
              "      <td>7795-CFOCW</td>\n",
              "      <td>Male</td>\n",
              "      <td>0</td>\n",
              "      <td>No</td>\n",
              "      <td>No</td>\n",
              "      <td>45</td>\n",
              "      <td>No</td>\n",
              "      <td>No phone service</td>\n",
              "      <td>DSL</td>\n",
              "      <td>Yes</td>\n",
              "      <td>No</td>\n",
              "      <td>Yes</td>\n",
              "      <td>Yes</td>\n",
              "      <td>No</td>\n",
              "      <td>No</td>\n",
              "      <td>One year</td>\n",
              "      <td>No</td>\n",
              "      <td>Bank transfer (automatic)</td>\n",
              "      <td>42.30</td>\n",
              "      <td>1840.75</td>\n",
              "      <td>No</td>\n",
              "    </tr>\n",
              "    <tr>\n",
              "      <th>4</th>\n",
              "      <td>9237-HQITU</td>\n",
              "      <td>Female</td>\n",
              "      <td>0</td>\n",
              "      <td>No</td>\n",
              "      <td>No</td>\n",
              "      <td>2</td>\n",
              "      <td>Yes</td>\n",
              "      <td>No</td>\n",
              "      <td>Fiber optic</td>\n",
              "      <td>No</td>\n",
              "      <td>No</td>\n",
              "      <td>No</td>\n",
              "      <td>No</td>\n",
              "      <td>No</td>\n",
              "      <td>No</td>\n",
              "      <td>Month-to-month</td>\n",
              "      <td>Yes</td>\n",
              "      <td>Electronic check</td>\n",
              "      <td>70.70</td>\n",
              "      <td>151.65</td>\n",
              "      <td>Yes</td>\n",
              "    </tr>\n",
              "  </tbody>\n",
              "</table>\n",
              "</div>"
            ],
            "text/plain": [
              "   customerID  gender  SeniorCitizen  ... MonthlyCharges TotalCharges  Churn\n",
              "0  7590-VHVEG  Female              0  ...          29.85        29.85     No\n",
              "1  5575-GNVDE    Male              0  ...          56.95      1889.50     No\n",
              "2  3668-QPYBK    Male              0  ...          53.85       108.15    Yes\n",
              "3  7795-CFOCW    Male              0  ...          42.30      1840.75     No\n",
              "4  9237-HQITU  Female              0  ...          70.70       151.65    Yes\n",
              "\n",
              "[5 rows x 21 columns]"
            ]
          },
          "metadata": {
            "tags": []
          },
          "execution_count": 98
        }
      ]
    },
    {
      "cell_type": "code",
      "metadata": {
        "id": "BGTnMenTZYu6",
        "colab_type": "code",
        "colab": {}
      },
      "source": [
        "## drop strings type that is not necessary for the ML model\n",
        "data = data.drop([\"customerID\"], axis = 1)"
      ],
      "execution_count": 0,
      "outputs": []
    },
    {
      "cell_type": "code",
      "metadata": {
        "id": "HbWjkDRENB1K",
        "colab_type": "code",
        "outputId": "064f8455-31dd-4ccc-828a-c8535eefe6ec",
        "colab": {
          "base_uri": "https://localhost:8080/",
          "height": 570
        }
      },
      "source": [
        "## undertstand categorical data\n",
        "print (\"\\nUnique values :  \\n\",data.nunique())"
      ],
      "execution_count": 0,
      "outputs": [
        {
          "output_type": "stream",
          "text": [
            "\n",
            "Unique values :  \n",
            " gender                                        2\n",
            "SeniorCitizen                                 2\n",
            "Partner                                       2\n",
            "Dependents                                    2\n",
            "PhoneService                                  2\n",
            "OnlineSecurity                                2\n",
            "OnlineBackup                                  2\n",
            "DeviceProtection                              2\n",
            "TechSupport                                   2\n",
            "StreamingTV                                   2\n",
            "StreamingMovies                               2\n",
            "PaperlessBilling                              2\n",
            "Churn                                         2\n",
            "MultipleLines_No                              2\n",
            "MultipleLines_No phone service                2\n",
            "MultipleLines_Yes                             2\n",
            "InternetService_DSL                           2\n",
            "InternetService_Fiber optic                   2\n",
            "InternetService_No                            2\n",
            "Contract_Month-to-month                       2\n",
            "Contract_One year                             2\n",
            "Contract_Two year                             2\n",
            "PaymentMethod_Bank transfer (automatic)       2\n",
            "PaymentMethod_Credit card (automatic)         2\n",
            "PaymentMethod_Electronic check                2\n",
            "PaymentMethod_Mailed check                    2\n",
            "tenure                                       72\n",
            "MonthlyCharges                             1584\n",
            "TotalCharges                               6530\n",
            "dtype: int64\n"
          ],
          "name": "stdout"
        }
      ]
    },
    {
      "cell_type": "code",
      "metadata": {
        "id": "wWQS0LneSFNq",
        "colab_type": "code",
        "colab": {}
      },
      "source": [
        "### CONVERT all categorical into NUMERICAL\n",
        "from sklearn.preprocessing import LabelEncoder\n",
        "from sklearn.preprocessing import StandardScaler\n",
        "\n",
        "#customer id col\n",
        "Id_col     = ['customerID']\n",
        "#Target columns\n",
        "target_col = [\"Churn\"]\n",
        "#categorical columns\n",
        "cat_cols   = data.nunique()[data.nunique() < 6].keys().tolist()\n",
        "cat_cols   = [x for x in cat_cols if x not in target_col]\n",
        "#numerical columns\n",
        "num_cols   = [x for x in data.columns if x not in cat_cols + target_col + Id_col]\n",
        "#Binary columns with 2 values\n",
        "bin_cols   = data.nunique()[data.nunique() == 2].keys().tolist()\n",
        "#Columns more than 2 values\n",
        "multi_cols = [i for i in cat_cols if i not in bin_cols]\n",
        "\n",
        "#Label encoding Binary columns\n",
        "le = LabelEncoder()\n",
        "for i in bin_cols :\n",
        "    data[i] = le.fit_transform(data[i])\n",
        "    \n",
        "#Duplicating columns for multi value columns\n",
        "data = pd.get_dummies(data = data,columns = multi_cols )\n",
        "\n",
        "#Scaling Numerical columns\n",
        "std = StandardScaler()\n",
        "scaled = std.fit_transform(data[num_cols])\n",
        "scaled = pd.DataFrame(scaled,columns=num_cols)\n",
        "\n",
        "#dropping original values merging scaled values for numerical columns\n",
        "df_data_og = data.copy()\n",
        "data = data.drop(columns = num_cols,axis = 1)\n",
        "data = data.merge(scaled,left_index=True,right_index=True,how = \"left\")\n"
      ],
      "execution_count": 0,
      "outputs": []
    },
    {
      "cell_type": "code",
      "metadata": {
        "id": "yLBleQVbSVUb",
        "colab_type": "code",
        "outputId": "38c1aac1-2bd1-4f22-f888-d7fd1416b2aa",
        "colab": {
          "base_uri": "https://localhost:8080/",
          "height": 703
        }
      },
      "source": [
        "data.sample(20)"
      ],
      "execution_count": 0,
      "outputs": [
        {
          "output_type": "execute_result",
          "data": {
            "text/html": [
              "<div>\n",
              "<style scoped>\n",
              "    .dataframe tbody tr th:only-of-type {\n",
              "        vertical-align: middle;\n",
              "    }\n",
              "\n",
              "    .dataframe tbody tr th {\n",
              "        vertical-align: top;\n",
              "    }\n",
              "\n",
              "    .dataframe thead th {\n",
              "        text-align: right;\n",
              "    }\n",
              "</style>\n",
              "<table border=\"1\" class=\"dataframe\">\n",
              "  <thead>\n",
              "    <tr style=\"text-align: right;\">\n",
              "      <th></th>\n",
              "      <th>gender</th>\n",
              "      <th>SeniorCitizen</th>\n",
              "      <th>Partner</th>\n",
              "      <th>Dependents</th>\n",
              "      <th>PhoneService</th>\n",
              "      <th>OnlineSecurity</th>\n",
              "      <th>OnlineBackup</th>\n",
              "      <th>DeviceProtection</th>\n",
              "      <th>TechSupport</th>\n",
              "      <th>StreamingTV</th>\n",
              "      <th>StreamingMovies</th>\n",
              "      <th>PaperlessBilling</th>\n",
              "      <th>Churn</th>\n",
              "      <th>MultipleLines_No</th>\n",
              "      <th>MultipleLines_No phone service</th>\n",
              "      <th>MultipleLines_Yes</th>\n",
              "      <th>InternetService_DSL</th>\n",
              "      <th>InternetService_Fiber optic</th>\n",
              "      <th>InternetService_No</th>\n",
              "      <th>Contract_Month-to-month</th>\n",
              "      <th>Contract_One year</th>\n",
              "      <th>Contract_Two year</th>\n",
              "      <th>PaymentMethod_Bank transfer (automatic)</th>\n",
              "      <th>PaymentMethod_Credit card (automatic)</th>\n",
              "      <th>PaymentMethod_Electronic check</th>\n",
              "      <th>PaymentMethod_Mailed check</th>\n",
              "      <th>tenure</th>\n",
              "      <th>MonthlyCharges</th>\n",
              "      <th>TotalCharges</th>\n",
              "    </tr>\n",
              "  </thead>\n",
              "  <tbody>\n",
              "    <tr>\n",
              "      <th>2554</th>\n",
              "      <td>1</td>\n",
              "      <td>0</td>\n",
              "      <td>1</td>\n",
              "      <td>0</td>\n",
              "      <td>1</td>\n",
              "      <td>1</td>\n",
              "      <td>1</td>\n",
              "      <td>1</td>\n",
              "      <td>1</td>\n",
              "      <td>1</td>\n",
              "      <td>1</td>\n",
              "      <td>1</td>\n",
              "      <td>0</td>\n",
              "      <td>0</td>\n",
              "      <td>0</td>\n",
              "      <td>1</td>\n",
              "      <td>0</td>\n",
              "      <td>1</td>\n",
              "      <td>0</td>\n",
              "      <td>0</td>\n",
              "      <td>0</td>\n",
              "      <td>1</td>\n",
              "      <td>0</td>\n",
              "      <td>0</td>\n",
              "      <td>1</td>\n",
              "      <td>0</td>\n",
              "      <td>1.612573</td>\n",
              "      <td>1.687012</td>\n",
              "      <td>2.709773</td>\n",
              "    </tr>\n",
              "    <tr>\n",
              "      <th>4220</th>\n",
              "      <td>1</td>\n",
              "      <td>0</td>\n",
              "      <td>1</td>\n",
              "      <td>1</td>\n",
              "      <td>1</td>\n",
              "      <td>1</td>\n",
              "      <td>1</td>\n",
              "      <td>0</td>\n",
              "      <td>1</td>\n",
              "      <td>1</td>\n",
              "      <td>1</td>\n",
              "      <td>0</td>\n",
              "      <td>0</td>\n",
              "      <td>1</td>\n",
              "      <td>0</td>\n",
              "      <td>0</td>\n",
              "      <td>1</td>\n",
              "      <td>0</td>\n",
              "      <td>0</td>\n",
              "      <td>0</td>\n",
              "      <td>0</td>\n",
              "      <td>1</td>\n",
              "      <td>1</td>\n",
              "      <td>0</td>\n",
              "      <td>0</td>\n",
              "      <td>0</td>\n",
              "      <td>1.490341</td>\n",
              "      <td>0.526921</td>\n",
              "      <td>1.437940</td>\n",
              "    </tr>\n",
              "    <tr>\n",
              "      <th>4473</th>\n",
              "      <td>1</td>\n",
              "      <td>0</td>\n",
              "      <td>1</td>\n",
              "      <td>0</td>\n",
              "      <td>0</td>\n",
              "      <td>1</td>\n",
              "      <td>0</td>\n",
              "      <td>0</td>\n",
              "      <td>0</td>\n",
              "      <td>1</td>\n",
              "      <td>0</td>\n",
              "      <td>1</td>\n",
              "      <td>0</td>\n",
              "      <td>0</td>\n",
              "      <td>1</td>\n",
              "      <td>0</td>\n",
              "      <td>1</td>\n",
              "      <td>0</td>\n",
              "      <td>0</td>\n",
              "      <td>1</td>\n",
              "      <td>0</td>\n",
              "      <td>0</td>\n",
              "      <td>1</td>\n",
              "      <td>0</td>\n",
              "      <td>0</td>\n",
              "      <td>0</td>\n",
              "      <td>0.390254</td>\n",
              "      <td>-0.819317</td>\n",
              "      <td>-0.289971</td>\n",
              "    </tr>\n",
              "    <tr>\n",
              "      <th>2998</th>\n",
              "      <td>1</td>\n",
              "      <td>0</td>\n",
              "      <td>0</td>\n",
              "      <td>1</td>\n",
              "      <td>1</td>\n",
              "      <td>0</td>\n",
              "      <td>0</td>\n",
              "      <td>0</td>\n",
              "      <td>1</td>\n",
              "      <td>0</td>\n",
              "      <td>0</td>\n",
              "      <td>1</td>\n",
              "      <td>1</td>\n",
              "      <td>0</td>\n",
              "      <td>0</td>\n",
              "      <td>1</td>\n",
              "      <td>0</td>\n",
              "      <td>1</td>\n",
              "      <td>0</td>\n",
              "      <td>1</td>\n",
              "      <td>0</td>\n",
              "      <td>0</td>\n",
              "      <td>0</td>\n",
              "      <td>0</td>\n",
              "      <td>1</td>\n",
              "      <td>0</td>\n",
              "      <td>-0.220905</td>\n",
              "      <td>0.488694</td>\n",
              "      <td>-0.045332</td>\n",
              "    </tr>\n",
              "    <tr>\n",
              "      <th>447</th>\n",
              "      <td>0</td>\n",
              "      <td>0</td>\n",
              "      <td>1</td>\n",
              "      <td>1</td>\n",
              "      <td>1</td>\n",
              "      <td>0</td>\n",
              "      <td>0</td>\n",
              "      <td>0</td>\n",
              "      <td>0</td>\n",
              "      <td>0</td>\n",
              "      <td>0</td>\n",
              "      <td>1</td>\n",
              "      <td>0</td>\n",
              "      <td>0</td>\n",
              "      <td>0</td>\n",
              "      <td>1</td>\n",
              "      <td>0</td>\n",
              "      <td>0</td>\n",
              "      <td>1</td>\n",
              "      <td>0</td>\n",
              "      <td>0</td>\n",
              "      <td>1</td>\n",
              "      <td>1</td>\n",
              "      <td>0</td>\n",
              "      <td>0</td>\n",
              "      <td>0</td>\n",
              "      <td>0.797694</td>\n",
              "      <td>-1.321248</td>\n",
              "      <td>-0.446945</td>\n",
              "    </tr>\n",
              "    <tr>\n",
              "      <th>2706</th>\n",
              "      <td>0</td>\n",
              "      <td>0</td>\n",
              "      <td>1</td>\n",
              "      <td>1</td>\n",
              "      <td>1</td>\n",
              "      <td>0</td>\n",
              "      <td>0</td>\n",
              "      <td>0</td>\n",
              "      <td>0</td>\n",
              "      <td>1</td>\n",
              "      <td>1</td>\n",
              "      <td>1</td>\n",
              "      <td>1</td>\n",
              "      <td>1</td>\n",
              "      <td>0</td>\n",
              "      <td>0</td>\n",
              "      <td>0</td>\n",
              "      <td>1</td>\n",
              "      <td>0</td>\n",
              "      <td>0</td>\n",
              "      <td>1</td>\n",
              "      <td>0</td>\n",
              "      <td>1</td>\n",
              "      <td>0</td>\n",
              "      <td>0</td>\n",
              "      <td>0</td>\n",
              "      <td>-0.180161</td>\n",
              "      <td>0.841043</td>\n",
              "      <td>0.139261</td>\n",
              "    </tr>\n",
              "    <tr>\n",
              "      <th>5264</th>\n",
              "      <td>0</td>\n",
              "      <td>0</td>\n",
              "      <td>1</td>\n",
              "      <td>1</td>\n",
              "      <td>1</td>\n",
              "      <td>0</td>\n",
              "      <td>0</td>\n",
              "      <td>0</td>\n",
              "      <td>0</td>\n",
              "      <td>0</td>\n",
              "      <td>0</td>\n",
              "      <td>0</td>\n",
              "      <td>0</td>\n",
              "      <td>1</td>\n",
              "      <td>0</td>\n",
              "      <td>0</td>\n",
              "      <td>0</td>\n",
              "      <td>0</td>\n",
              "      <td>1</td>\n",
              "      <td>0</td>\n",
              "      <td>0</td>\n",
              "      <td>1</td>\n",
              "      <td>1</td>\n",
              "      <td>0</td>\n",
              "      <td>0</td>\n",
              "      <td>0</td>\n",
              "      <td>1.490341</td>\n",
              "      <td>-1.484126</td>\n",
              "      <td>-0.417275</td>\n",
              "    </tr>\n",
              "    <tr>\n",
              "      <th>482</th>\n",
              "      <td>0</td>\n",
              "      <td>1</td>\n",
              "      <td>0</td>\n",
              "      <td>0</td>\n",
              "      <td>1</td>\n",
              "      <td>0</td>\n",
              "      <td>0</td>\n",
              "      <td>0</td>\n",
              "      <td>0</td>\n",
              "      <td>0</td>\n",
              "      <td>1</td>\n",
              "      <td>1</td>\n",
              "      <td>0</td>\n",
              "      <td>1</td>\n",
              "      <td>0</td>\n",
              "      <td>0</td>\n",
              "      <td>0</td>\n",
              "      <td>1</td>\n",
              "      <td>0</td>\n",
              "      <td>1</td>\n",
              "      <td>0</td>\n",
              "      <td>0</td>\n",
              "      <td>0</td>\n",
              "      <td>0</td>\n",
              "      <td>1</td>\n",
              "      <td>0</td>\n",
              "      <td>-0.506113</td>\n",
              "      <td>0.553513</td>\n",
              "      <td>-0.269875</td>\n",
              "    </tr>\n",
              "    <tr>\n",
              "      <th>699</th>\n",
              "      <td>1</td>\n",
              "      <td>0</td>\n",
              "      <td>1</td>\n",
              "      <td>1</td>\n",
              "      <td>1</td>\n",
              "      <td>0</td>\n",
              "      <td>0</td>\n",
              "      <td>1</td>\n",
              "      <td>0</td>\n",
              "      <td>1</td>\n",
              "      <td>0</td>\n",
              "      <td>1</td>\n",
              "      <td>0</td>\n",
              "      <td>0</td>\n",
              "      <td>0</td>\n",
              "      <td>1</td>\n",
              "      <td>1</td>\n",
              "      <td>0</td>\n",
              "      <td>0</td>\n",
              "      <td>0</td>\n",
              "      <td>0</td>\n",
              "      <td>1</td>\n",
              "      <td>1</td>\n",
              "      <td>0</td>\n",
              "      <td>0</td>\n",
              "      <td>0</td>\n",
              "      <td>1.368109</td>\n",
              "      <td>-0.049801</td>\n",
              "      <td>0.841080</td>\n",
              "    </tr>\n",
              "    <tr>\n",
              "      <th>4531</th>\n",
              "      <td>1</td>\n",
              "      <td>0</td>\n",
              "      <td>1</td>\n",
              "      <td>1</td>\n",
              "      <td>1</td>\n",
              "      <td>1</td>\n",
              "      <td>0</td>\n",
              "      <td>1</td>\n",
              "      <td>0</td>\n",
              "      <td>1</td>\n",
              "      <td>1</td>\n",
              "      <td>1</td>\n",
              "      <td>1</td>\n",
              "      <td>0</td>\n",
              "      <td>0</td>\n",
              "      <td>1</td>\n",
              "      <td>1</td>\n",
              "      <td>0</td>\n",
              "      <td>0</td>\n",
              "      <td>0</td>\n",
              "      <td>0</td>\n",
              "      <td>1</td>\n",
              "      <td>0</td>\n",
              "      <td>0</td>\n",
              "      <td>1</td>\n",
              "      <td>0</td>\n",
              "      <td>1.408853</td>\n",
              "      <td>0.495342</td>\n",
              "      <td>1.328018</td>\n",
              "    </tr>\n",
              "    <tr>\n",
              "      <th>3264</th>\n",
              "      <td>1</td>\n",
              "      <td>0</td>\n",
              "      <td>0</td>\n",
              "      <td>0</td>\n",
              "      <td>1</td>\n",
              "      <td>0</td>\n",
              "      <td>0</td>\n",
              "      <td>0</td>\n",
              "      <td>0</td>\n",
              "      <td>0</td>\n",
              "      <td>0</td>\n",
              "      <td>0</td>\n",
              "      <td>0</td>\n",
              "      <td>0</td>\n",
              "      <td>0</td>\n",
              "      <td>1</td>\n",
              "      <td>0</td>\n",
              "      <td>0</td>\n",
              "      <td>1</td>\n",
              "      <td>0</td>\n",
              "      <td>1</td>\n",
              "      <td>0</td>\n",
              "      <td>0</td>\n",
              "      <td>1</td>\n",
              "      <td>0</td>\n",
              "      <td>0</td>\n",
              "      <td>1.327365</td>\n",
              "      <td>-1.329558</td>\n",
              "      <td>-0.301044</td>\n",
              "    </tr>\n",
              "    <tr>\n",
              "      <th>3605</th>\n",
              "      <td>1</td>\n",
              "      <td>0</td>\n",
              "      <td>0</td>\n",
              "      <td>0</td>\n",
              "      <td>1</td>\n",
              "      <td>0</td>\n",
              "      <td>1</td>\n",
              "      <td>0</td>\n",
              "      <td>1</td>\n",
              "      <td>1</td>\n",
              "      <td>1</td>\n",
              "      <td>1</td>\n",
              "      <td>0</td>\n",
              "      <td>1</td>\n",
              "      <td>0</td>\n",
              "      <td>0</td>\n",
              "      <td>0</td>\n",
              "      <td>1</td>\n",
              "      <td>0</td>\n",
              "      <td>0</td>\n",
              "      <td>0</td>\n",
              "      <td>1</td>\n",
              "      <td>0</td>\n",
              "      <td>1</td>\n",
              "      <td>0</td>\n",
              "      <td>0</td>\n",
              "      <td>0.349510</td>\n",
              "      <td>1.158489</td>\n",
              "      <td>0.854602</td>\n",
              "    </tr>\n",
              "    <tr>\n",
              "      <th>4285</th>\n",
              "      <td>0</td>\n",
              "      <td>1</td>\n",
              "      <td>0</td>\n",
              "      <td>0</td>\n",
              "      <td>1</td>\n",
              "      <td>0</td>\n",
              "      <td>0</td>\n",
              "      <td>0</td>\n",
              "      <td>0</td>\n",
              "      <td>0</td>\n",
              "      <td>0</td>\n",
              "      <td>1</td>\n",
              "      <td>1</td>\n",
              "      <td>0</td>\n",
              "      <td>0</td>\n",
              "      <td>1</td>\n",
              "      <td>0</td>\n",
              "      <td>1</td>\n",
              "      <td>0</td>\n",
              "      <td>1</td>\n",
              "      <td>0</td>\n",
              "      <td>0</td>\n",
              "      <td>0</td>\n",
              "      <td>0</td>\n",
              "      <td>1</td>\n",
              "      <td>0</td>\n",
              "      <td>-0.057929</td>\n",
              "      <td>0.302548</td>\n",
              "      <td>-0.029185</td>\n",
              "    </tr>\n",
              "    <tr>\n",
              "      <th>639</th>\n",
              "      <td>1</td>\n",
              "      <td>0</td>\n",
              "      <td>1</td>\n",
              "      <td>1</td>\n",
              "      <td>1</td>\n",
              "      <td>0</td>\n",
              "      <td>0</td>\n",
              "      <td>0</td>\n",
              "      <td>0</td>\n",
              "      <td>0</td>\n",
              "      <td>0</td>\n",
              "      <td>0</td>\n",
              "      <td>0</td>\n",
              "      <td>0</td>\n",
              "      <td>0</td>\n",
              "      <td>1</td>\n",
              "      <td>0</td>\n",
              "      <td>0</td>\n",
              "      <td>1</td>\n",
              "      <td>0</td>\n",
              "      <td>0</td>\n",
              "      <td>1</td>\n",
              "      <td>1</td>\n",
              "      <td>0</td>\n",
              "      <td>0</td>\n",
              "      <td>0</td>\n",
              "      <td>1.449597</td>\n",
              "      <td>-1.309614</td>\n",
              "      <td>-0.292552</td>\n",
              "    </tr>\n",
              "    <tr>\n",
              "      <th>2053</th>\n",
              "      <td>1</td>\n",
              "      <td>0</td>\n",
              "      <td>0</td>\n",
              "      <td>0</td>\n",
              "      <td>1</td>\n",
              "      <td>1</td>\n",
              "      <td>1</td>\n",
              "      <td>1</td>\n",
              "      <td>1</td>\n",
              "      <td>1</td>\n",
              "      <td>1</td>\n",
              "      <td>0</td>\n",
              "      <td>0</td>\n",
              "      <td>0</td>\n",
              "      <td>0</td>\n",
              "      <td>1</td>\n",
              "      <td>1</td>\n",
              "      <td>0</td>\n",
              "      <td>0</td>\n",
              "      <td>0</td>\n",
              "      <td>0</td>\n",
              "      <td>1</td>\n",
              "      <td>1</td>\n",
              "      <td>0</td>\n",
              "      <td>0</td>\n",
              "      <td>0</td>\n",
              "      <td>1.612573</td>\n",
              "      <td>0.726363</td>\n",
              "      <td>1.738940</td>\n",
              "    </tr>\n",
              "    <tr>\n",
              "      <th>1814</th>\n",
              "      <td>0</td>\n",
              "      <td>0</td>\n",
              "      <td>1</td>\n",
              "      <td>1</td>\n",
              "      <td>0</td>\n",
              "      <td>0</td>\n",
              "      <td>1</td>\n",
              "      <td>1</td>\n",
              "      <td>1</td>\n",
              "      <td>1</td>\n",
              "      <td>0</td>\n",
              "      <td>0</td>\n",
              "      <td>0</td>\n",
              "      <td>0</td>\n",
              "      <td>1</td>\n",
              "      <td>0</td>\n",
              "      <td>1</td>\n",
              "      <td>0</td>\n",
              "      <td>0</td>\n",
              "      <td>0</td>\n",
              "      <td>0</td>\n",
              "      <td>1</td>\n",
              "      <td>0</td>\n",
              "      <td>1</td>\n",
              "      <td>0</td>\n",
              "      <td>0</td>\n",
              "      <td>1.164390</td>\n",
              "      <td>-0.447024</td>\n",
              "      <td>0.424025</td>\n",
              "    </tr>\n",
              "    <tr>\n",
              "      <th>4726</th>\n",
              "      <td>1</td>\n",
              "      <td>0</td>\n",
              "      <td>1</td>\n",
              "      <td>1</td>\n",
              "      <td>1</td>\n",
              "      <td>1</td>\n",
              "      <td>0</td>\n",
              "      <td>1</td>\n",
              "      <td>1</td>\n",
              "      <td>1</td>\n",
              "      <td>1</td>\n",
              "      <td>0</td>\n",
              "      <td>1</td>\n",
              "      <td>1</td>\n",
              "      <td>0</td>\n",
              "      <td>0</td>\n",
              "      <td>1</td>\n",
              "      <td>0</td>\n",
              "      <td>0</td>\n",
              "      <td>0</td>\n",
              "      <td>1</td>\n",
              "      <td>0</td>\n",
              "      <td>0</td>\n",
              "      <td>1</td>\n",
              "      <td>0</td>\n",
              "      <td>0</td>\n",
              "      <td>0.268022</td>\n",
              "      <td>0.505314</td>\n",
              "      <td>0.396914</td>\n",
              "    </tr>\n",
              "    <tr>\n",
              "      <th>2719</th>\n",
              "      <td>1</td>\n",
              "      <td>0</td>\n",
              "      <td>1</td>\n",
              "      <td>1</td>\n",
              "      <td>1</td>\n",
              "      <td>0</td>\n",
              "      <td>0</td>\n",
              "      <td>0</td>\n",
              "      <td>0</td>\n",
              "      <td>0</td>\n",
              "      <td>0</td>\n",
              "      <td>0</td>\n",
              "      <td>0</td>\n",
              "      <td>1</td>\n",
              "      <td>0</td>\n",
              "      <td>0</td>\n",
              "      <td>0</td>\n",
              "      <td>0</td>\n",
              "      <td>1</td>\n",
              "      <td>0</td>\n",
              "      <td>1</td>\n",
              "      <td>0</td>\n",
              "      <td>1</td>\n",
              "      <td>0</td>\n",
              "      <td>0</td>\n",
              "      <td>0</td>\n",
              "      <td>1.205134</td>\n",
              "      <td>-1.490774</td>\n",
              "      <td>-0.458173</td>\n",
              "    </tr>\n",
              "    <tr>\n",
              "      <th>1408</th>\n",
              "      <td>1</td>\n",
              "      <td>0</td>\n",
              "      <td>1</td>\n",
              "      <td>1</td>\n",
              "      <td>1</td>\n",
              "      <td>1</td>\n",
              "      <td>1</td>\n",
              "      <td>1</td>\n",
              "      <td>1</td>\n",
              "      <td>0</td>\n",
              "      <td>0</td>\n",
              "      <td>0</td>\n",
              "      <td>0</td>\n",
              "      <td>0</td>\n",
              "      <td>0</td>\n",
              "      <td>1</td>\n",
              "      <td>0</td>\n",
              "      <td>1</td>\n",
              "      <td>0</td>\n",
              "      <td>0</td>\n",
              "      <td>0</td>\n",
              "      <td>1</td>\n",
              "      <td>0</td>\n",
              "      <td>1</td>\n",
              "      <td>0</td>\n",
              "      <td>0</td>\n",
              "      <td>1.327365</td>\n",
              "      <td>0.988963</td>\n",
              "      <td>1.674505</td>\n",
              "    </tr>\n",
              "    <tr>\n",
              "      <th>4297</th>\n",
              "      <td>0</td>\n",
              "      <td>0</td>\n",
              "      <td>1</td>\n",
              "      <td>0</td>\n",
              "      <td>1</td>\n",
              "      <td>0</td>\n",
              "      <td>0</td>\n",
              "      <td>0</td>\n",
              "      <td>0</td>\n",
              "      <td>0</td>\n",
              "      <td>0</td>\n",
              "      <td>0</td>\n",
              "      <td>0</td>\n",
              "      <td>1</td>\n",
              "      <td>0</td>\n",
              "      <td>0</td>\n",
              "      <td>0</td>\n",
              "      <td>0</td>\n",
              "      <td>1</td>\n",
              "      <td>0</td>\n",
              "      <td>1</td>\n",
              "      <td>0</td>\n",
              "      <td>0</td>\n",
              "      <td>1</td>\n",
              "      <td>0</td>\n",
              "      <td>0</td>\n",
              "      <td>0.675462</td>\n",
              "      <td>-1.522353</td>\n",
              "      <td>-0.602045</td>\n",
              "    </tr>\n",
              "  </tbody>\n",
              "</table>\n",
              "</div>"
            ],
            "text/plain": [
              "      gender  SeniorCitizen  Partner  ...    tenure  MonthlyCharges  TotalCharges\n",
              "2554       1              0        1  ...  1.612573        1.687012      2.709773\n",
              "4220       1              0        1  ...  1.490341        0.526921      1.437940\n",
              "4473       1              0        1  ...  0.390254       -0.819317     -0.289971\n",
              "2998       1              0        0  ... -0.220905        0.488694     -0.045332\n",
              "447        0              0        1  ...  0.797694       -1.321248     -0.446945\n",
              "2706       0              0        1  ... -0.180161        0.841043      0.139261\n",
              "5264       0              0        1  ...  1.490341       -1.484126     -0.417275\n",
              "482        0              1        0  ... -0.506113        0.553513     -0.269875\n",
              "699        1              0        1  ...  1.368109       -0.049801      0.841080\n",
              "4531       1              0        1  ...  1.408853        0.495342      1.328018\n",
              "3264       1              0        0  ...  1.327365       -1.329558     -0.301044\n",
              "3605       1              0        0  ...  0.349510        1.158489      0.854602\n",
              "4285       0              1        0  ... -0.057929        0.302548     -0.029185\n",
              "639        1              0        1  ...  1.449597       -1.309614     -0.292552\n",
              "2053       1              0        0  ...  1.612573        0.726363      1.738940\n",
              "1814       0              0        1  ...  1.164390       -0.447024      0.424025\n",
              "4726       1              0        1  ...  0.268022        0.505314      0.396914\n",
              "2719       1              0        1  ...  1.205134       -1.490774     -0.458173\n",
              "1408       1              0        1  ...  1.327365        0.988963      1.674505\n",
              "4297       0              0        1  ...  0.675462       -1.522353     -0.602045\n",
              "\n",
              "[20 rows x 29 columns]"
            ]
          },
          "metadata": {
            "tags": []
          },
          "execution_count": 108
        }
      ]
    },
    {
      "cell_type": "code",
      "metadata": {
        "id": "exUD9rZcWjNa",
        "colab_type": "code",
        "outputId": "4695dd00-cd78-4a21-cb7d-96a50749fba7",
        "colab": {
          "base_uri": "https://localhost:8080/",
          "height": 35
        }
      },
      "source": [
        "data.shape"
      ],
      "execution_count": 0,
      "outputs": [
        {
          "output_type": "execute_result",
          "data": {
            "text/plain": [
              "(7032, 29)"
            ]
          },
          "metadata": {
            "tags": []
          },
          "execution_count": 109
        }
      ]
    },
    {
      "cell_type": "code",
      "metadata": {
        "id": "ugtNEtyqSYo2",
        "colab_type": "code",
        "outputId": "2a315a12-c17b-49a4-ceee-37a7d97d341f",
        "colab": {
          "base_uri": "https://localhost:8080/",
          "height": 764
        }
      },
      "source": [
        "## CORRELATION HEAT MAP\n",
        "\n",
        "import matplotlib.pyplot as plt\n",
        "\n",
        "plt.figure(figsize=(12, 9))\n",
        "\n",
        "corr =data.corr()\n",
        "cmap = sns.diverging_palette(220,10, as_cmap=True)\n",
        "sns.heatmap(corr, cmap = cmap,\n",
        "            xticklabels=corr.columns.values,\n",
        "            yticklabels=corr.columns.values)"
      ],
      "execution_count": 0,
      "outputs": [
        {
          "output_type": "execute_result",
          "data": {
            "text/plain": [
              "<matplotlib.axes._subplots.AxesSubplot at 0x7f4785402d68>"
            ]
          },
          "metadata": {
            "tags": []
          },
          "execution_count": 110
        },
        {
          "output_type": "display_data",
          "data": {
            "image/png": "[encoded data removed]",
            "text/plain": [
              "<Figure size 864x648 with 2 Axes>"
            ]
          },
          "metadata": {
            "tags": []
          }
        }
      ]
    },
    {
      "cell_type": "code",
      "metadata": {
        "id": "2wB3vfmdUdI-",
        "colab_type": "code",
        "outputId": "2d885c9a-1513-4f6a-bda0-7e4e29d55d6a",
        "colab": {
          "base_uri": "https://localhost:8080/",
          "height": 535
        }
      },
      "source": [
        "data.dtypes"
      ],
      "execution_count": 0,
      "outputs": [
        {
          "output_type": "execute_result",
          "data": {
            "text/plain": [
              "gender                                       int64\n",
              "SeniorCitizen                                int64\n",
              "Partner                                      int64\n",
              "Dependents                                   int64\n",
              "PhoneService                                 int64\n",
              "OnlineSecurity                               int64\n",
              "OnlineBackup                                 int64\n",
              "DeviceProtection                             int64\n",
              "TechSupport                                  int64\n",
              "StreamingTV                                  int64\n",
              "StreamingMovies                              int64\n",
              "PaperlessBilling                             int64\n",
              "Churn                                        int64\n",
              "MultipleLines_No                             int64\n",
              "MultipleLines_No phone service               int64\n",
              "MultipleLines_Yes                            int64\n",
              "InternetService_DSL                          int64\n",
              "InternetService_Fiber optic                  int64\n",
              "InternetService_No                           int64\n",
              "Contract_Month-to-month                      int64\n",
              "Contract_One year                            int64\n",
              "Contract_Two year                            int64\n",
              "PaymentMethod_Bank transfer (automatic)      int64\n",
              "PaymentMethod_Credit card (automatic)        int64\n",
              "PaymentMethod_Electronic check               int64\n",
              "PaymentMethod_Mailed check                   int64\n",
              "tenure                                     float64\n",
              "MonthlyCharges                             float64\n",
              "TotalCharges                               float64\n",
              "dtype: object"
            ]
          },
          "metadata": {
            "tags": []
          },
          "execution_count": 111
        }
      ]
    },
    {
      "cell_type": "code",
      "metadata": {
        "id": "knlrAQ6Y4OiF",
        "colab_type": "code",
        "colab": {}
      },
      "source": [
        "## define independent(features) and dependent(target) variables\n",
        "features = data.drop(['Churn'],axis=1)\n",
        "target = data.Churn\n",
        "\n",
        "## Split dataset into tarin (80%) and test (20%) sets\n",
        "import sklearn\n",
        "from sklearn.model_selection import train_test_split\n",
        "\n",
        "train_x,test_x,train_y,test_y = train_test_split(features,target,random_state=30,test_size=0.2)\n"
      ],
      "execution_count": 0,
      "outputs": []
    },
    {
      "cell_type": "markdown",
      "metadata": {
        "id": "wqM673WT4GFj",
        "colab_type": "text"
      },
      "source": [
        "# 4. Modeling "
      ]
    },
    {
      "cell_type": "code",
      "metadata": {
        "id": "2GwuQdsz60k7",
        "colab_type": "code",
        "colab": {}
      },
      "source": [
        "## import ML packages\n",
        "from sklearn.linear_model import LogisticRegression\n",
        "from sklearn import svm\n",
        "from sklearn.svm import SVC, LinearSVC\n",
        "from sklearn.ensemble import RandomForestClassifier\n",
        "from sklearn.model_selection import StratifiedKFold\n",
        "from sklearn.model_selection import GridSearchCV\n",
        "from sklearn import metrics\n",
        "from sklearn.metrics import mean_absolute_error, accuracy_score\n"
      ],
      "execution_count": 0,
      "outputs": []
    },
    {
      "cell_type": "markdown",
      "metadata": {
        "id": "NcQyT32I9mhy",
        "colab_type": "text"
      },
      "source": [
        "###Logistic Regression Classifier"
      ]
    },
    {
      "cell_type": "code",
      "metadata": {
        "id": "EQJZRJhH7Rt7",
        "colab_type": "code",
        "outputId": "8cd94af4-14d1-4d9a-ae1b-19fe0c06ab5b",
        "colab": {
          "base_uri": "https://localhost:8080/",
          "height": 35
        }
      },
      "source": [
        "model_Log = LogisticRegression(random_state=34)\n",
        "model_Log.fit(train_x,train_y)\n",
        "print(\"Accuracy using Logistic Regression \",model_Log.score(test_x, test_y))\n",
        "\n",
        "## the accuracy of the model  is 0.7931769722814499"
      ],
      "execution_count": 0,
      "outputs": [
        {
          "output_type": "stream",
          "text": [
            "Accuracy using Logistic Regression  0.7931769722814499\n"
          ],
          "name": "stdout"
        }
      ]
    },
    {
      "cell_type": "markdown",
      "metadata": {
        "id": "4JVKBrWs_Yel",
        "colab_type": "text"
      },
      "source": [
        "### SVM Calssifier"
      ]
    },
    {
      "cell_type": "code",
      "metadata": {
        "id": "X1BmMAiQ9yvz",
        "colab_type": "code",
        "outputId": "b8fca97c-de7c-435d-e168-f3761a7a413d",
        "colab": {
          "base_uri": "https://localhost:8080/",
          "height": 35
        }
      },
      "source": [
        "model_SVM = svm.SVC(C=0.8, kernel='linear', decision_function_shape='ovr')\n",
        "model_SVM.fit(train_x, train_y)\n",
        "print(\"Accuracy using SVM \",model_SVM.score(test_x, test_y))\n",
        "\n",
        "\n",
        "## the accuracy of the model  is 0.7810945273631841"
      ],
      "execution_count": 0,
      "outputs": [
        {
          "output_type": "stream",
          "text": [
            "Accuracy using SVM  0.7810945273631841\n"
          ],
          "name": "stdout"
        }
      ]
    },
    {
      "cell_type": "markdown",
      "metadata": {
        "id": "BJLO08CzAR29",
        "colab_type": "text"
      },
      "source": [
        "### Random Forest Classifier"
      ]
    },
    {
      "cell_type": "code",
      "metadata": {
        "id": "7mv5YuuxARIF",
        "colab_type": "code",
        "outputId": "92cf490c-5a63-4e45-b11b-6762dbcb9c72",
        "colab": {
          "base_uri": "https://localhost:8080/",
          "height": 35
        }
      },
      "source": [
        "model_RF = RandomForestClassifier(random_state=45)\n",
        "model_RF.fit(train_x,train_y)\n",
        "print(\"Accuracy using Random Forest\",model_RF.score(test_x, test_y))\n",
        "\n",
        "#Accuracy using RandomForestClassifier  0.7775408670931059"
      ],
      "execution_count": 0,
      "outputs": [
        {
          "output_type": "stream",
          "text": [
            "Accuracy using Random Forest 0.7775408670931059\n"
          ],
          "name": "stdout"
        }
      ]
    },
    {
      "cell_type": "markdown",
      "metadata": {
        "id": "7OP96nCpV1yy",
        "colab_type": "text"
      },
      "source": [
        "# GridSearchCV"
      ]
    },
    {
      "cell_type": "code",
      "metadata": {
        "id": "uZBfTAXsViio",
        "colab_type": "code",
        "colab": {}
      },
      "source": [
        "# SVM GridSearch: we have to specify the type of Kernel for SVM. \n",
        "## It turns out that the best kernel parameter is \"linear\" whcih we used for SVM Classifier\n",
        "\n",
        "from sklearn.model_selection import GridSearchCV\n",
        "from sklearn.metrics import classification_report\n",
        "parameters = {'kernel':('linear', 'rbf'), 'C':[0.8,0.9,1]}\n",
        "svr = svm.SVC()\n",
        "clf = GridSearchCV(svr, parameters, scoring='f1_macro', cv=5)\n",
        "result = clf.fit(train_x, train_y)"
      ],
      "execution_count": 0,
      "outputs": []
    },
    {
      "cell_type": "code",
      "metadata": {
        "id": "A2ouyYpJWWFL",
        "colab_type": "code",
        "outputId": "97be3abe-8d6c-45b5-b7d5-10410dcc6173",
        "colab": {
          "base_uri": "https://localhost:8080/",
          "height": 460
        }
      },
      "source": [
        "# Result of SVM GridSearch\n",
        "result_svc = pd.DataFrame(result.cv_results_)\n",
        "result_svc.sort_values(by='mean_test_score', ascending=False).head(5)"
      ],
      "execution_count": 0,
      "outputs": [
        {
          "output_type": "execute_result",
          "data": {
            "text/html": [
              "<div>\n",
              "<style scoped>\n",
              "    .dataframe tbody tr th:only-of-type {\n",
              "        vertical-align: middle;\n",
              "    }\n",
              "\n",
              "    .dataframe tbody tr th {\n",
              "        vertical-align: top;\n",
              "    }\n",
              "\n",
              "    .dataframe thead th {\n",
              "        text-align: right;\n",
              "    }\n",
              "</style>\n",
              "<table border=\"1\" class=\"dataframe\">\n",
              "  <thead>\n",
              "    <tr style=\"text-align: right;\">\n",
              "      <th></th>\n",
              "      <th>mean_fit_time</th>\n",
              "      <th>std_fit_time</th>\n",
              "      <th>mean_score_time</th>\n",
              "      <th>std_score_time</th>\n",
              "      <th>param_C</th>\n",
              "      <th>param_kernel</th>\n",
              "      <th>params</th>\n",
              "      <th>split0_test_score</th>\n",
              "      <th>split1_test_score</th>\n",
              "      <th>split2_test_score</th>\n",
              "      <th>split3_test_score</th>\n",
              "      <th>split4_test_score</th>\n",
              "      <th>mean_test_score</th>\n",
              "      <th>std_test_score</th>\n",
              "      <th>rank_test_score</th>\n",
              "      <th>split0_train_score</th>\n",
              "      <th>split1_train_score</th>\n",
              "      <th>split2_train_score</th>\n",
              "      <th>split3_train_score</th>\n",
              "      <th>split4_train_score</th>\n",
              "      <th>mean_train_score</th>\n",
              "      <th>std_train_score</th>\n",
              "    </tr>\n",
              "  </thead>\n",
              "  <tbody>\n",
              "    <tr>\n",
              "      <th>4</th>\n",
              "      <td>0.723328</td>\n",
              "      <td>0.013573</td>\n",
              "      <td>0.075075</td>\n",
              "      <td>0.004878</td>\n",
              "      <td>1</td>\n",
              "      <td>linear</td>\n",
              "      <td>{'C': 1, 'kernel': 'linear'}</td>\n",
              "      <td>0.731653</td>\n",
              "      <td>0.726419</td>\n",
              "      <td>0.734195</td>\n",
              "      <td>0.714832</td>\n",
              "      <td>0.731676</td>\n",
              "      <td>0.727757</td>\n",
              "      <td>0.006938</td>\n",
              "      <td>1</td>\n",
              "      <td>0.721091</td>\n",
              "      <td>0.729981</td>\n",
              "      <td>0.728575</td>\n",
              "      <td>0.740795</td>\n",
              "      <td>0.723201</td>\n",
              "      <td>0.728729</td>\n",
              "      <td>0.006871</td>\n",
              "    </tr>\n",
              "    <tr>\n",
              "      <th>2</th>\n",
              "      <td>0.703143</td>\n",
              "      <td>0.009772</td>\n",
              "      <td>0.072303</td>\n",
              "      <td>0.000772</td>\n",
              "      <td>0.9</td>\n",
              "      <td>linear</td>\n",
              "      <td>{'C': 0.9, 'kernel': 'linear'}</td>\n",
              "      <td>0.731653</td>\n",
              "      <td>0.725555</td>\n",
              "      <td>0.734195</td>\n",
              "      <td>0.712395</td>\n",
              "      <td>0.731676</td>\n",
              "      <td>0.727097</td>\n",
              "      <td>0.007880</td>\n",
              "      <td>2</td>\n",
              "      <td>0.721522</td>\n",
              "      <td>0.729981</td>\n",
              "      <td>0.728575</td>\n",
              "      <td>0.740354</td>\n",
              "      <td>0.722593</td>\n",
              "      <td>0.728605</td>\n",
              "      <td>0.006727</td>\n",
              "    </tr>\n",
              "    <tr>\n",
              "      <th>0</th>\n",
              "      <td>0.675459</td>\n",
              "      <td>0.023518</td>\n",
              "      <td>0.072438</td>\n",
              "      <td>0.000808</td>\n",
              "      <td>0.8</td>\n",
              "      <td>linear</td>\n",
              "      <td>{'C': 0.8, 'kernel': 'linear'}</td>\n",
              "      <td>0.731653</td>\n",
              "      <td>0.725555</td>\n",
              "      <td>0.732645</td>\n",
              "      <td>0.712395</td>\n",
              "      <td>0.731676</td>\n",
              "      <td>0.726787</td>\n",
              "      <td>0.007621</td>\n",
              "      <td>3</td>\n",
              "      <td>0.721091</td>\n",
              "      <td>0.729981</td>\n",
              "      <td>0.727591</td>\n",
              "      <td>0.739976</td>\n",
              "      <td>0.722768</td>\n",
              "      <td>0.728281</td>\n",
              "      <td>0.006667</td>\n",
              "    </tr>\n",
              "    <tr>\n",
              "      <th>1</th>\n",
              "      <td>0.850106</td>\n",
              "      <td>0.009995</td>\n",
              "      <td>0.143717</td>\n",
              "      <td>0.003108</td>\n",
              "      <td>0.8</td>\n",
              "      <td>rbf</td>\n",
              "      <td>{'C': 0.8, 'kernel': 'rbf'}</td>\n",
              "      <td>0.710961</td>\n",
              "      <td>0.708436</td>\n",
              "      <td>0.716899</td>\n",
              "      <td>0.698203</td>\n",
              "      <td>0.726116</td>\n",
              "      <td>0.712122</td>\n",
              "      <td>0.009241</td>\n",
              "      <td>4</td>\n",
              "      <td>0.714033</td>\n",
              "      <td>0.721608</td>\n",
              "      <td>0.715869</td>\n",
              "      <td>0.722295</td>\n",
              "      <td>0.712656</td>\n",
              "      <td>0.717292</td>\n",
              "      <td>0.003944</td>\n",
              "    </tr>\n",
              "    <tr>\n",
              "      <th>3</th>\n",
              "      <td>0.855029</td>\n",
              "      <td>0.006213</td>\n",
              "      <td>0.142443</td>\n",
              "      <td>0.001200</td>\n",
              "      <td>0.9</td>\n",
              "      <td>rbf</td>\n",
              "      <td>{'C': 0.9, 'kernel': 'rbf'}</td>\n",
              "      <td>0.710961</td>\n",
              "      <td>0.707576</td>\n",
              "      <td>0.716899</td>\n",
              "      <td>0.697348</td>\n",
              "      <td>0.726116</td>\n",
              "      <td>0.711779</td>\n",
              "      <td>0.009571</td>\n",
              "      <td>5</td>\n",
              "      <td>0.715365</td>\n",
              "      <td>0.723828</td>\n",
              "      <td>0.716724</td>\n",
              "      <td>0.723117</td>\n",
              "      <td>0.713706</td>\n",
              "      <td>0.718548</td>\n",
              "      <td>0.004139</td>\n",
              "    </tr>\n",
              "  </tbody>\n",
              "</table>\n",
              "</div>"
            ],
            "text/plain": [
              "   mean_fit_time  std_fit_time  ...  mean_train_score  std_train_score\n",
              "4       0.723328      0.013573  ...          0.728729         0.006871\n",
              "2       0.703143      0.009772  ...          0.728605         0.006727\n",
              "0       0.675459      0.023518  ...          0.728281         0.006667\n",
              "1       0.850106      0.009995  ...          0.717292         0.003944\n",
              "3       0.855029      0.006213  ...          0.718548         0.004139\n",
              "\n",
              "[5 rows x 22 columns]"
            ]
          },
          "metadata": {
            "tags": []
          },
          "execution_count": 119
        }
      ]
    },
    {
      "cell_type": "markdown",
      "metadata": {
        "id": "TTaFlh9YDGk_",
        "colab_type": "text"
      },
      "source": [
        "# 5. Models Performance Evaluation"
      ]
    },
    {
      "cell_type": "markdown",
      "metadata": {
        "id": "SarakRDxURtr",
        "colab_type": "text"
      },
      "source": [
        "### Logistic Regression Classifier Evaluation"
      ]
    },
    {
      "cell_type": "code",
      "metadata": {
        "id": "q5ugapjeC4v9",
        "colab_type": "code",
        "outputId": "5a4c2bb2-c8fd-46c8-ddf7-be1fc42ddcf4",
        "colab": {
          "base_uri": "https://localhost:8080/",
          "height": 391
        }
      },
      "source": [
        "## CONFUSION MATRIX\n",
        "from yellowbrick.classifier import ConfusionMatrix\n",
        "\n",
        "##Logistic Regression Classifier Confusion Matrix: the number of false positives is lower than false negatives, \n",
        "##the model fails to recognize heart disease in sick more often than it fails to classify a person with no disease as sick.\n",
        "cm = ConfusionMatrix(model_Log, classes=[0,1])\n",
        "cm.fit(train_x, train_y)\n",
        "cm.score(test_x, test_y)\n",
        "cm.poof()\n",
        "cm.score(test_x,test_y)\n"
      ],
      "execution_count": 0,
      "outputs": [
        {
          "output_type": "display_data",
          "data": {
            "image/png": "[encoded data removed]",
            "text/plain": [
              "<Figure size 576x396 with 1 Axes>"
            ]
          },
          "metadata": {
            "tags": []
          }
        },
        {
          "output_type": "execute_result",
          "data": {
            "text/plain": [
              "0.7931769722814499"
            ]
          },
          "metadata": {
            "tags": []
          },
          "execution_count": 120
        }
      ]
    },
    {
      "cell_type": "code",
      "metadata": {
        "id": "jNkOHrnHM5EI",
        "colab_type": "code",
        "outputId": "3cbe2a1c-1790-493a-b32c-5fdadd4c7602",
        "colab": {
          "base_uri": "https://localhost:8080/",
          "height": 421
        }
      },
      "source": [
        "##ROC AUC : area under the curve is 0.84: False positive rate is small\n",
        "from sklearn.metrics import roc_curve, auc\n",
        "y_score = model_Log.fit(train_x, train_y).decision_function(test_x)\n",
        "fpr,tpr,threshold = roc_curve(test_y, y_score)\n",
        "roc_auc = auc(fpr,tpr)  \n",
        "plt.figure()\n",
        "lw = 2\n",
        "plt.figure(figsize=(8,6))\n",
        "plt.plot(fpr, tpr, color='green',\n",
        "         lw=lw, label='ROC curve (area = %0.2f)' % roc_auc)\n",
        "plt.plot([0, 1], [0, 1], color='navy', lw=lw, linestyle='--')\n",
        "plt.xlim([0.0, 1.0])\n",
        "plt.ylim([0.0, 1.05])\n",
        "plt.xlabel('False Positive Rate')\n",
        "plt.ylabel('True Positive Rate')\n",
        "plt.title('model Logistic Regression : ROC RUC')\n",
        "plt.legend(loc=\"lower right\")\n",
        "plt.show()"
      ],
      "execution_count": 0,
      "outputs": [
        {
          "output_type": "display_data",
          "data": {
            "text/plain": [
              "<Figure size 576x396 with 0 Axes>"
            ]
          },
          "metadata": {
            "tags": []
          }
        },
        {
          "output_type": "display_data",
          "data": {
            "image/png": "[encoded data removed]",
            "text/plain": [
              "<Figure size 576x432 with 1 Axes>"
            ]
          },
          "metadata": {
            "tags": []
          }
        }
      ]
    },
    {
      "cell_type": "markdown",
      "metadata": {
        "id": "rMbq8Ll9UXai",
        "colab_type": "text"
      },
      "source": [
        "### SVM Classifier Evaluation"
      ]
    },
    {
      "cell_type": "code",
      "metadata": {
        "id": "xyzepuLxJ77x",
        "colab_type": "code",
        "outputId": "45703b19-09e5-4922-8aa4-afb212a6d79c",
        "colab": {
          "base_uri": "https://localhost:8080/",
          "height": 391
        }
      },
      "source": [
        "##SVM Calssifier Confusion Matrix: the number of false positives and false negatives are the same\n",
        "#the model fails to recognize heart disease in a sick persin and fails to classify a person with no disease as sick with the same frequency.\n",
        "cm2 = ConfusionMatrix(model_SVM, classes=[0,1])\n",
        "cm2.fit(train_x, train_y)\n",
        "cm2.score(test_x, test_y)\n",
        "cm2.poof()\n",
        "cm2.score(test_x,test_y)"
      ],
      "execution_count": 0,
      "outputs": [
        {
          "output_type": "display_data",
          "data": {
            "image/png": "[encoded data removed]",
            "text/plain": [
              "<Figure size 576x396 with 1 Axes>"
            ]
          },
          "metadata": {
            "tags": []
          }
        },
        {
          "output_type": "execute_result",
          "data": {
            "text/plain": [
              "0.7810945273631841"
            ]
          },
          "metadata": {
            "tags": []
          },
          "execution_count": 130
        }
      ]
    },
    {
      "cell_type": "code",
      "metadata": {
        "id": "-SKiXA75O8DZ",
        "colab_type": "code",
        "outputId": "32077675-a340-4e7f-e2a2-061c01d3016b",
        "colab": {
          "base_uri": "https://localhost:8080/",
          "height": 421
        }
      },
      "source": [
        "##ROC AUC : area under the curve is 0.81: False positive rate is small\n",
        "from sklearn.metrics import roc_curve, auc\n",
        "y_score = model_SVM.fit(train_x, train_y).decision_function(test_x)\n",
        "fpr,tpr,threshold = roc_curve(test_y, y_score)\n",
        "roc_auc = auc(fpr,tpr)  \n",
        "plt.figure()\n",
        "lw = 2\n",
        "plt.figure(figsize=(8,6))\n",
        "plt.plot(fpr, tpr, color='green',\n",
        "         lw=lw, label='ROC curve (area = %0.2f)' % roc_auc)\n",
        "plt.plot([0, 1], [0, 1], color='navy', lw=lw, linestyle='--')\n",
        "plt.xlim([0.0, 1.0])\n",
        "plt.ylim([0.0, 1.05])\n",
        "plt.xlabel('False Positive Rate')\n",
        "plt.ylabel('True Positive Rate')\n",
        "plt.title('SVM: C=0.8, kernel=linear: ROC RUC')\n",
        "plt.legend(loc=\"lower right\")\n",
        "plt.show()"
      ],
      "execution_count": 0,
      "outputs": [
        {
          "output_type": "display_data",
          "data": {
            "text/plain": [
              "<Figure size 576x396 with 0 Axes>"
            ]
          },
          "metadata": {
            "tags": []
          }
        },
        {
          "output_type": "display_data",
          "data": {
            "image/png": "[encoded data removed]",
            "text/plain": [
              "<Figure size 576x432 with 1 Axes>"
            ]
          },
          "metadata": {
            "tags": []
          }
        }
      ]
    },
    {
      "cell_type": "markdown",
      "metadata": {
        "id": "X4cuWjC9U2ZX",
        "colab_type": "text"
      },
      "source": [
        "### Random Forest Classifier Evaluation"
      ]
    },
    {
      "cell_type": "code",
      "metadata": {
        "id": "OFP_NA5FKy95",
        "colab_type": "code",
        "outputId": "25544a2d-76e3-415a-e933-67d6d819e248",
        "colab": {
          "base_uri": "https://localhost:8080/",
          "height": 391
        }
      },
      "source": [
        "##Random Forest Calssifier Confusion Matrix: the number of false positives is much lower than false negatives, \n",
        "##the model fails to recognize heart disease in sick much more often than it fails to classify a person with no disease as sick.\n",
        "cm3 = ConfusionMatrix(model_RF, classes=[0,1])\n",
        "cm3.fit(train_x, train_y)\n",
        "cm3.score(test_x, test_y)\n",
        "cm3.poof()\n",
        "cm3.score(test_x,test_y)"
      ],
      "execution_count": 0,
      "outputs": [
        {
          "output_type": "display_data",
          "data": {
            "image/png": "[encoded data removed]",
            "text/plain": [
              "<Figure size 576x396 with 1 Axes>"
            ]
          },
          "metadata": {
            "tags": []
          }
        },
        {
          "output_type": "execute_result",
          "data": {
            "text/plain": [
              "0.7775408670931059"
            ]
          },
          "metadata": {
            "tags": []
          },
          "execution_count": 124
        }
      ]
    },
    {
      "cell_type": "code",
      "metadata": {
        "id": "FOFQNGj2PxkO",
        "colab_type": "code",
        "outputId": "8b9b2dce-8990-4285-b055-314963fd8965",
        "colab": {
          "base_uri": "https://localhost:8080/",
          "height": 376
        }
      },
      "source": [
        "#ROC AUC: area under the curve is 0.86 , False positive rate is small\n",
        "from yellowbrick.classifier import ROCAUC\n",
        "classes=[0,1]\n",
        "visualizer = ROCAUC(model_RF, classes=classes)\n",
        "visualizer.score(test_x, test_y)  # Evaluate the model on the test data\n",
        "g = visualizer.poof()             # Draw/show/poof the data"
      ],
      "execution_count": 0,
      "outputs": [
        {
          "output_type": "display_data",
          "data": {
            "image/png": "[encoded data removed]",
            "text/plain": [
              "<Figure size 576x396 with 1 Axes>"
            ]
          },
          "metadata": {
            "tags": []
          }
        }
      ]
    },
    {
      "cell_type": "markdown",
      "metadata": {
        "id": "xSrfiekvmJOR",
        "colab_type": "text"
      },
      "source": [
        "#6. CONCLUSION AND DEPLOYMENT\n",
        "\n",
        "Among  ML models, **Logistic Regression Classifier** gives  the highest **79% accuracy score**, which means that the model was correct in 79% of predictions.\n",
        "\n",
        "**A confusion matrix** is a table that is often used to describe the performance of a classification model (or \"classifier\") on a set of test data for which the true values are known. Logistic Regression Classifier's Confusion Matrix shows that the number of false positives is lower than false negatives, which means\n",
        "the model fails to recognize heart disease in sick more often than it fails to classify a person with no disease as sick. This is someting that doctors who use the model should be aware of, and if they feel that the model's prediction run counter their intuition, they should prescribe aditional examination, as the prediction model tends to make \"optimistic\" for the patient predictions.\n",
        "\n",
        "**SVM GridSearch:** helps to specify the type of Kernel for SVM.  It turned out that the best kernel parameter for SVM is **\"linear\"** which we used in our  SVM Classifier.\n",
        "\n",
        "**AUC (Area Under The Curve) ROC (Receiver Operating Characteristics) curve**. It is one of the most important evaluation metrics for checking any classification model’s performance. The top left corner of the plot is the “ideal” point - a false positive rate of zero, and a true positive rate of one. This means that a larger area under the curve (AUC) is usually better. All our models have high accuracy, the Logistic Regression has the largest area under the curve(AUC), which is 84%\n",
        "\n",
        "# Recommendation\n",
        "\n",
        "\n",
        "The Management should keep an eye on customers that were classified as \" churn\" by the ML Model. Customer Service should approach them immediately and try to offer loyalty program. From the  analysis  above we can conclude that: Tenure and MonthlyCharges are probably important features, \n",
        "\n",
        "*  In order to reduce churn rate,  the Management should pay attention to newly signed customers, because Recent clients are more likely to churn\n",
        "\n",
        "*  Clients with higher MonthlyCharges are also more likely to churn, thus, it is recomended to introduce loyalty program for the  valuable customers \n",
        "\n",
        "Thus, the t Loyalty program should be built in such a way that would consider tenure and monthly charge. For example, there should be a program like: 3 months free for newly signed customers.\n",
        "\n",
        "\n"
      ]
    },
    {
      "cell_type": "markdown",
      "metadata": {
        "id": "m-cAzzSN16XG",
        "colab_type": "text"
      },
      "source": [
        "> ![alt text](https://media.giphy.com/media/Lb3vIJjaSIQWA/giphy.gif)"
      ]
    }
  ]
}