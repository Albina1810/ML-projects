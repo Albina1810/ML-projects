{
  "nbformat": 4,
  "nbformat_minor": 0,
  "metadata": {
    "colab": {
      "name": "AB _test .ipynb",
      "provenance": [],
      "collapsed_sections": []
    },
    "kernelspec": {
      "name": "python3",
      "display_name": "Python 3"
    }
  },
  "cells": [
    {
      "cell_type": "markdown",
      "metadata": {
        "id": "t24U3b2FaApR",
        "colab_type": "text"
      },
      "source": [
        "A/B test"
      ]
    },
    {
      "cell_type": "code",
      "metadata": {
        "id": "NNA2nUONaEYg",
        "colab_type": "code",
        "colab": {}
      },
      "source": [
        "import numpy as np # for math\n",
        "from scipy import stats  # for stats\n"
      ],
      "execution_count": 0,
      "outputs": []
    },
    {
      "cell_type": "code",
      "metadata": {
        "id": "eeTaFVWwaYWx",
        "colab_type": "code",
        "colab": {}
      },
      "source": [
        "N = 10  # number of each sample A and B\n",
        "\n",
        "# random  function gives random value from 0 to 1 \n",
        "# let's make a random sample that varies from 2 to 3\n",
        "a = np.random.random(N)+2 \n",
        "\n",
        "# and one random sample that vaies from 0 to 1\n",
        "b =  np.random.random(N)"
      ],
      "execution_count": 0,
      "outputs": []
    },
    {
      "cell_type": "code",
      "metadata": {
        "id": "zD7qAfDOan8n",
        "colab_type": "code",
        "outputId": "bcee0a63-b949-42d5-fb71-675d4f9f6ca1",
        "colab": {
          "base_uri": "https://localhost:8080/",
          "height": 52
        }
      },
      "source": [
        "a"
      ],
      "execution_count": 0,
      "outputs": [
        {
          "output_type": "execute_result",
          "data": {
            "text/plain": [
              "array([2.64553763, 2.35230689, 2.22646432, 2.77406763, 2.75074593,\n",
              "       2.87883011, 2.07878099, 2.5851642 , 2.24136213, 2.28653908])"
            ]
          },
          "metadata": {
            "tags": []
          },
          "execution_count": 32
        }
      ]
    },
    {
      "cell_type": "code",
      "metadata": {
        "id": "rS_Vtk8Pa9BI",
        "colab_type": "code",
        "outputId": "69ac0b93-2336-4373-fa2f-fdb282683818",
        "colab": {
          "base_uri": "https://localhost:8080/",
          "height": 52
        }
      },
      "source": [
        "b"
      ],
      "execution_count": 0,
      "outputs": [
        {
          "output_type": "execute_result",
          "data": {
            "text/plain": [
              "array([0.34596871, 0.51897931, 0.64397805, 0.17250455, 0.93293124,\n",
              "       0.1669888 , 0.93950186, 0.0957621 , 0.01473801, 0.69312984])"
            ]
          },
          "metadata": {
            "tags": []
          },
          "execution_count": 33
        }
      ]
    },
    {
      "cell_type": "code",
      "metadata": {
        "id": "02NSPLiEbEvZ",
        "colab_type": "code",
        "colab": {}
      },
      "source": [
        "import seaborn as sns\n",
        "import matplotlib.pyplot as plt"
      ],
      "execution_count": 0,
      "outputs": []
    },
    {
      "cell_type": "code",
      "metadata": {
        "id": "ZMqVQHp8a-5M",
        "colab_type": "code",
        "outputId": "46e028bb-31c2-4b30-c512-fc8ce10fde5a",
        "colab": {
          "base_uri": "https://localhost:8080/",
          "height": 292
        }
      },
      "source": [
        "\n",
        "sns.lineplot(data = a)"
      ],
      "execution_count": 0,
      "outputs": [
        {
          "output_type": "execute_result",
          "data": {
            "text/plain": [
              "<matplotlib.axes._subplots.AxesSubplot at 0x7f0394465d68>"
            ]
          },
          "metadata": {
            "tags": []
          },
          "execution_count": 86
        },
        {
          "output_type": "display_data",
          "data": {
            "image/png": "[encoded data removed]",
            "text/plain": [
              "<Figure size 432x288 with 1 Axes>"
            ]
          },
          "metadata": {
            "tags": []
          }
        }
      ]
    },
    {
      "cell_type": "code",
      "metadata": {
        "id": "xN-R4fFEdC0u",
        "colab_type": "code",
        "outputId": "6b47543e-600c-4d85-a498-990d8b595c14",
        "colab": {
          "base_uri": "https://localhost:8080/",
          "height": 286
        }
      },
      "source": [
        "sns.lineplot(data = b)"
      ],
      "execution_count": 0,
      "outputs": [
        {
          "output_type": "execute_result",
          "data": {
            "text/plain": [
              "<matplotlib.axes._subplots.AxesSubplot at 0x7f03947789e8>"
            ]
          },
          "metadata": {
            "tags": []
          },
          "execution_count": 36
        },
        {
          "output_type": "display_data",
          "data": {
            "image/png": "[encoded data removed]",
            "text/plain": [
              "<Figure size 432x288 with 1 Axes>"
            ]
          },
          "metadata": {
            "tags": []
          }
        }
      ]
    },
    {
      "cell_type": "code",
      "metadata": {
        "id": "LGqqXV56bfKL",
        "colab_type": "code",
        "outputId": "d5335410-b438-4059-a869-72ba3d0ed8ce",
        "colab": {
          "base_uri": "https://localhost:8080/",
          "height": 286
        }
      },
      "source": [
        "sns.lineplot(data = [b, a])"
      ],
      "execution_count": 0,
      "outputs": [
        {
          "output_type": "execute_result",
          "data": {
            "text/plain": [
              "<matplotlib.axes._subplots.AxesSubplot at 0x7f0394737ef0>"
            ]
          },
          "metadata": {
            "tags": []
          },
          "execution_count": 37
        },
        {
          "output_type": "display_data",
          "data": {
            "image/png": "[encoded data removed]",
            "text/plain": [
              "<Figure size 432x288 with 1 Axes>"
            ]
          },
          "metadata": {
            "tags": []
          }
        }
      ]
    },
    {
      "cell_type": "code",
      "metadata": {
        "id": "qsvhBhErdGzm",
        "colab_type": "code",
        "outputId": "88773106-cd1b-435d-b016-98bde28b3314",
        "colab": {
          "base_uri": "https://localhost:8080/",
          "height": 34
        }
      },
      "source": [
        "## calculate the variance\n",
        "var_a = a.var(ddof=1) ## unbinsed should be divide on N-1, not N\n",
        "\n",
        "var_b = b.var(ddof=1)\n",
        "\n",
        "var_a, var_b"
      ],
      "execution_count": 0,
      "outputs": [
        {
          "output_type": "execute_result",
          "data": {
            "text/plain": [
              "(0.07702281354017691, 0.11745905813411106)"
            ]
          },
          "metadata": {
            "tags": []
          },
          "execution_count": 52
        }
      ]
    },
    {
      "cell_type": "code",
      "metadata": {
        "id": "CQByTHDEeCMn",
        "colab_type": "code",
        "outputId": "57b04016-296f-4990-ec94-19d704030c9f",
        "colab": {
          "base_uri": "https://localhost:8080/",
          "height": 34
        }
      },
      "source": [
        "#pooled sd dev\n",
        "\n",
        "s = np.sqrt((var_a + var_b)/2)\n",
        "\n",
        "s"
      ],
      "execution_count": 0,
      "outputs": [
        {
          "output_type": "execute_result",
          "data": {
            "text/plain": [
              "0.31183478933105585"
            ]
          },
          "metadata": {
            "tags": []
          },
          "execution_count": 53
        }
      ]
    },
    {
      "cell_type": "code",
      "metadata": {
        "id": "XoewpuQzeZZt",
        "colab_type": "code",
        "outputId": "45075e8c-ef34-483b-bbee-8d387049f1b9",
        "colab": {
          "base_uri": "https://localhost:8080/",
          "height": 52
        }
      },
      "source": [
        "\n",
        "t = (a.mean() - b.mean())/(s*np.sqrt(2.0/N))\n",
        "df = 2*N -2 # degree of freedom\n",
        "p = 1 - stats.t.cdf(t, df = df)\n",
        "print( \"t:\\t\", t,\"  \", \"p:\\t\", 2*p)\n",
        "\n",
        "## check with stasts ttest package\n",
        "t2, p2 = stats.ttest_ind(a, b)\n",
        "print( \"t2:\\t\", t,\"  \",  \"p2:\\t\", p2)"
      ],
      "execution_count": 0,
      "outputs": [
        {
          "output_type": "stream",
          "text": [
            "t:\t 14.553125143449417    p:\t 2.1358692592343687e-11\n",
            "t2:\t 14.553125143449417    p2:\t 2.1358609655011546e-11\n"
          ],
          "name": "stdout"
        }
      ]
    },
    {
      "cell_type": "code",
      "metadata": {
        "id": "8U3z2H4EhWV1",
        "colab_type": "code",
        "outputId": "7a85c93d-b04b-4ffe-ed30-b720dcafcd95",
        "colab": {
          "base_uri": "https://localhost:8080/",
          "height": 286
        }
      },
      "source": [
        "sns.distplot( a , color=\"skyblue\", label=\"A\")\n",
        "sns.distplot(b , color=\"red\", label=\"B\")\n"
      ],
      "execution_count": 0,
      "outputs": [
        {
          "output_type": "execute_result",
          "data": {
            "text/plain": [
              "<matplotlib.axes._subplots.AxesSubplot at 0x7f039443f710>"
            ]
          },
          "metadata": {
            "tags": []
          },
          "execution_count": 65
        },
        {
          "output_type": "display_data",
          "data": {
            "image/png": "[encoded data removed]",
            "text/plain": [
              "<Figure size 432x288 with 1 Axes>"
            ]
          },
          "metadata": {
            "tags": []
          }
        }
      ]
    },
    {
      "cell_type": "markdown",
      "metadata": {
        "id": "osOSkdmliEqw",
        "colab_type": "text"
      },
      "source": [
        "p-value is less than any significance level , obvious two means each for A and B samples, no even overlaps. Accept  H1: there is significant differeence in two samples.\n"
      ]
    }
  ]
}