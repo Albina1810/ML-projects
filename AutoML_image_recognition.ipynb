{
  "nbformat": 4,
  "nbformat_minor": 0,
  "metadata": {
    "colab": {
      "name": "AutoML image recognition.ipynb",
      "version": "0.3.2",
      "provenance": [],
      "collapsed_sections": [],
      "include_colab_link": true
    },
    "kernelspec": {
      "name": "python3",
      "display_name": "Python 3"
    }
  },
  "cells": [
    {
      "cell_type": "markdown",
      "metadata": {
        "id": "view-in-github",
        "colab_type": "text"
      },
      "source": [
        "<a href=\"https://colab.research.google.com/github/Albina1810/MLproject/blob/master/AutoML_image_recognition.ipynb\" target=\"_parent\"><img src=\"https://colab.research.google.com/assets/colab-badge.svg\" alt=\"Open In Colab\"/></a>"
      ]
    },
    {
      "metadata": {
        "id": "UfOgsuLoUNMw",
        "colab_type": "text"
      },
      "cell_type": "markdown",
      "source": [
        "\n",
        "## **Train the model using AutoML Vision **\n",
        "\n",
        "\n",
        "\n",
        "**The goal of the project** is to train machine learning models and classify images using Google AutoML Vision "
      ]
    },
    {
      "metadata": {
        "id": "4-xeIcRntKV0",
        "colab_type": "code",
        "outputId": "e9b4e768-82ec-4241-85d6-8a5782a74d15",
        "colab": {
          "base_uri": "https://localhost:8080/",
          "height": 122
        }
      },
      "cell_type": "code",
      "source": [
        "from google.colab import drive\n",
        "drive.mount('/content/drive')"
      ],
      "execution_count": 0,
      "outputs": [
        {
          "output_type": "stream",
          "text": [
            "Go to this URL in a browser: https://accounts.google.com/o/oauth2/auth?client_id=947318989803-6bn6qk8qdgf4n4g3pfee6491hc0brc4i.apps.googleusercontent.com&redirect_uri=urn%3Aietf%3Awg%3Aoauth%3A2.0%3Aoob&scope=email%20https%3A%2F%2Fwww.googleapis.com%2Fauth%2Fdocs.test%20https%3A%2F%2Fwww.googleapis.com%2Fauth%2Fdrive%20https%3A%2F%2Fwww.googleapis.com%2Fauth%2Fdrive.photos.readonly%20https%3A%2F%2Fwww.googleapis.com%2Fauth%2Fpeopleapi.readonly&response_type=code\n",
            "\n",
            "Enter your authorization code:\n",
            "··········\n",
            "Mounted at /content/drive\n"
          ],
          "name": "stdout"
        }
      ]
    },
    {
      "metadata": {
        "id": "ZaZ1UyUsxdb4",
        "colab_type": "text"
      },
      "cell_type": "markdown",
      "source": [
        "# **Upload Images and Create Dataset **\n",
        "\n",
        "\n",
        "After the project environment were set up and API were enabled, the Cloud Storage bucket were created. The name of the project is flowerdata8. To train and evaluate our classifying model, flower dataset was used. \n",
        "\n",
        "In order to train a model, 100 images per labels is enough. As the final goal of the project is to test two unlabeled images (in our case, the image of daisy and the  image of sunflower), I decided to keep only two folders with images of daisies  and images of sunflowers."
      ]
    },
    {
      "metadata": {
        "id": "IofCLn0Q00Eo",
        "colab_type": "text"
      },
      "cell_type": "markdown",
      "source": [
        " ![alt text](https://pbs.twimg.com/media/D0iTpeSV4AArKxm.jpg:large)\n"
      ]
    },
    {
      "metadata": {
        "id": "OzIbN7gqVIKY",
        "colab_type": "text"
      },
      "cell_type": "markdown",
      "source": [
        "# **Train  and Evaluate the Model **\n",
        "\n",
        "To train a model in AutoMLVision is a simple process, as long as dataset were uploaded correctly. \n",
        "\n",
        "\n",
        "Even with the bare minimum of 101 images of sunflowers and 110 images of daisies, the model showed very high precision 88%. \n",
        "\n",
        "The accuracy of predicting a daisy is 100%, meanwhile the accuracy of predicting sunflower is 80%. \n",
        "\n",
        "It can be explained by the fact that the dataset consisted more images of daisies and less images of sunflowers. Thus, to improve the accuracy of predicting a sunflower, more images of sunflowers should be added to the dataset. "
      ]
    },
    {
      "metadata": {
        "id": "0hyMxb_TViK4",
        "colab_type": "text"
      },
      "cell_type": "markdown",
      "source": [
        ""
      ]
    },
    {
      "metadata": {
        "id": "nXvEISdd2UYK",
        "colab_type": "text"
      },
      "cell_type": "markdown",
      "source": [
        "![alt text](https://pbs.twimg.com/media/D0iS9CnU8AA48kv.jpg:large)\n"
      ]
    },
    {
      "metadata": {
        "id": "aD2VTZwoVm4p",
        "colab_type": "text"
      },
      "cell_type": "markdown",
      "source": [
        "# **Predict **\n",
        "\n",
        "\n",
        "\n",
        "To see how well the model predict, or classify, two unlabeled images of a daisy and a sunflower were uploaded. As we can see, the model classified those two images absolutely correctly. "
      ]
    },
    {
      "metadata": {
        "id": "pY_kpGSZ2YFO",
        "colab_type": "text"
      },
      "cell_type": "markdown",
      "source": [
        "![alt text](https://pbs.twimg.com/media/D0iS6gEU4AAXJp7.jpg:large)"
      ]
    },
    {
      "metadata": {
        "id": "ZYztqGu22daQ",
        "colab_type": "text"
      },
      "cell_type": "markdown",
      "source": [
        "![alt text](https://pbs.twimg.com/media/D0iS2-bU0AALFyJ.jpg:large)"
      ]
    },
    {
      "metadata": {
        "id": "Pwzuh7M2V_92",
        "colab_type": "text"
      },
      "cell_type": "markdown",
      "source": [
        "# **Conclusion: **\n",
        "\n",
        "AutoML Vision is very simple and useful tool to classify images, given that dataset has at least 100 images of each label. "
      ]
    }
  ]
}