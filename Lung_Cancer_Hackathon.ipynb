{
  "nbformat": 4,
  "nbformat_minor": 0,
  "metadata": {
    "colab": {
      "name": "Lung Cancer Hackathon.ipynb",
      "provenance": [],
      "collapsed_sections": []
    },
    "kernelspec": {
      "name": "python3",
      "display_name": "Python 3"
    }
  },
  "cells": [
    {
      "cell_type": "markdown",
      "metadata": {
        "id": "0BB6f2fRL-7y",
        "colab_type": "text"
      },
      "source": [
        "BARCO CASE: whether the patient will live more than 5 years"
      ]
    },
    {
      "cell_type": "code",
      "metadata": {
        "id": "rsvXmBZ1MRkD",
        "colab_type": "code",
        "outputId": "5d2d2c22-0087-44a8-e3d2-9e62ac23a331",
        "colab": {
          "base_uri": "https://localhost:8080/",
          "height": 34
        }
      },
      "source": [
        "## mount to GD\n",
        "from google.colab import drive\n",
        "drive.mount('/content/gdrive', force_remount=True)"
      ],
      "execution_count": 0,
      "outputs": [
        {
          "output_type": "stream",
          "text": [
            "Mounted at /content/gdrive\n"
          ],
          "name": "stdout"
        }
      ]
    },
    {
      "cell_type": "code",
      "metadata": {
        "id": "VNEaDzokVFQP",
        "colab_type": "code",
        "colab": {}
      },
      "source": [
        ""
      ],
      "execution_count": 0,
      "outputs": []
    },
    {
      "cell_type": "code",
      "metadata": {
        "id": "uaPwVlLxM16X",
        "colab_type": "code",
        "outputId": "74374639-c209-4883-d952-f83b13b73648",
        "colab": {
          "base_uri": "https://localhost:8080/",
          "height": 138
        }
      },
      "source": [
        "## Access to TEAM4 Folder \n",
        "\n",
        "import os;os.listdir(\"/content/gdrive/Team Drives/Hackthon/Barco Dataset\")"
      ],
      "execution_count": 0,
      "outputs": [
        {
          "output_type": "execute_result",
          "data": {
            "text/plain": [
              "['Dataset',\n",
              " 'cleanfile_1.csv',\n",
              " 'Whitepapers',\n",
              " 'Copy of cleanfile_1.csv',\n",
              " 'cleanfile_2.csv',\n",
              " 'cleanfile_3.csv',\n",
              " 'cleanfile_4.csv']"
            ]
          },
          "metadata": {
            "tags": []
          },
          "execution_count": 26
        }
      ]
    },
    {
      "cell_type": "code",
      "metadata": {
        "id": "Oxtf8Ow3MZjz",
        "colab_type": "code",
        "colab": {}
      },
      "source": [
        "## import basic library \n",
        "import pandas as pd\n",
        "import numpy as np\n",
        "import matplotlib \n",
        "import seaborn as sns\n",
        "import matplotlib.pyplot as plt\n"
      ],
      "execution_count": 0,
      "outputs": []
    },
    {
      "cell_type": "code",
      "metadata": {
        "id": "yvd_tO0gMvmC",
        "colab_type": "code",
        "colab": {}
      },
      "source": [
        "## ingest\n",
        "\n",
        "\n",
        "data = pd.read_csv(\"/content/gdrive/Team Drives/Hackthon/Barco Dataset/cleanfile_4.csv\")"
      ],
      "execution_count": 0,
      "outputs": []
    },
    {
      "cell_type": "code",
      "metadata": {
        "id": "BOm9iC2UNSmN",
        "colab_type": "code",
        "outputId": "2394eb6f-efb0-46d7-869d-ff53f53af582",
        "colab": {
          "base_uri": "https://localhost:8080/",
          "height": 616
        }
      },
      "source": [
        "data.head()"
      ],
      "execution_count": 0,
      "outputs": [
        {
          "output_type": "execute_result",
          "data": {
            "text/html": [
              "<div>\n",
              "<style scoped>\n",
              "    .dataframe tbody tr th:only-of-type {\n",
              "        vertical-align: middle;\n",
              "    }\n",
              "\n",
              "    .dataframe tbody tr th {\n",
              "        vertical-align: top;\n",
              "    }\n",
              "\n",
              "    .dataframe thead th {\n",
              "        text-align: right;\n",
              "    }\n",
              "</style>\n",
              "<table border=\"1\" class=\"dataframe\">\n",
              "  <thead>\n",
              "    <tr style=\"text-align: right;\">\n",
              "      <th></th>\n",
              "      <th>Patient ID</th>\n",
              "      <th>Age recode with &lt;1 year olds</th>\n",
              "      <th>Age at diagnosis</th>\n",
              "      <th>Year of diagnosis</th>\n",
              "      <th>Sex</th>\n",
              "      <th>Race/ethnicity</th>\n",
              "      <th>NHIA Derived Hisp Origin</th>\n",
              "      <th>Race recode (W, B, AI, API)</th>\n",
              "      <th>Origin recode NHIA (Hispanic, Non-Hisp)</th>\n",
              "      <th>State-county</th>\n",
              "      <th>...</th>\n",
              "      <th>Vital status recode (study cutoff used)</th>\n",
              "      <th>Lived_5_and_above</th>\n",
              "      <th>Chemotherapy</th>\n",
              "      <th>Radiation_refused</th>\n",
              "      <th>Radiation_performed</th>\n",
              "      <th>Surgery_recommended_but_not_performed</th>\n",
              "      <th>Surgery_performed</th>\n",
              "      <th>Surgery_not_recommended</th>\n",
              "      <th>Surgery_status_unknown</th>\n",
              "      <th>cancer_stage_critical_level</th>\n",
              "    </tr>\n",
              "  </thead>\n",
              "  <tbody>\n",
              "    <tr>\n",
              "      <th>0</th>\n",
              "      <td>9</td>\n",
              "      <td>45-49 years</td>\n",
              "      <td>47</td>\n",
              "      <td>1992</td>\n",
              "      <td>1</td>\n",
              "      <td>Laotian (1988+)</td>\n",
              "      <td>Non-Spanish-Hispanic-Latino</td>\n",
              "      <td>Asian or Pacific Islander</td>\n",
              "      <td>Non-Spanish-Hispanic-Latino</td>\n",
              "      <td>CA: Alameda County (06001)</td>\n",
              "      <td>...</td>\n",
              "      <td>Dead</td>\n",
              "      <td>1</td>\n",
              "      <td>0</td>\n",
              "      <td>0</td>\n",
              "      <td>1</td>\n",
              "      <td>0</td>\n",
              "      <td>0</td>\n",
              "      <td>0</td>\n",
              "      <td>1</td>\n",
              "      <td>1</td>\n",
              "    </tr>\n",
              "    <tr>\n",
              "      <th>1</th>\n",
              "      <td>47</td>\n",
              "      <td>35-39 years</td>\n",
              "      <td>39</td>\n",
              "      <td>1992</td>\n",
              "      <td>0</td>\n",
              "      <td>White</td>\n",
              "      <td>Non-Spanish-Hispanic-Latino</td>\n",
              "      <td>White</td>\n",
              "      <td>Non-Spanish-Hispanic-Latino</td>\n",
              "      <td>CA: Contra Costa County (06013)</td>\n",
              "      <td>...</td>\n",
              "      <td>Dead</td>\n",
              "      <td>0</td>\n",
              "      <td>1</td>\n",
              "      <td>0</td>\n",
              "      <td>0</td>\n",
              "      <td>0</td>\n",
              "      <td>0</td>\n",
              "      <td>0</td>\n",
              "      <td>1</td>\n",
              "      <td>2</td>\n",
              "    </tr>\n",
              "    <tr>\n",
              "      <th>2</th>\n",
              "      <td>135</td>\n",
              "      <td>70-74 years</td>\n",
              "      <td>72</td>\n",
              "      <td>1989</td>\n",
              "      <td>0</td>\n",
              "      <td>White</td>\n",
              "      <td>Non-Spanish-Hispanic-Latino</td>\n",
              "      <td>White</td>\n",
              "      <td>Non-Spanish-Hispanic-Latino</td>\n",
              "      <td>CA: Alameda County (06001)</td>\n",
              "      <td>...</td>\n",
              "      <td>Dead</td>\n",
              "      <td>0</td>\n",
              "      <td>0</td>\n",
              "      <td>0</td>\n",
              "      <td>0</td>\n",
              "      <td>0</td>\n",
              "      <td>0</td>\n",
              "      <td>0</td>\n",
              "      <td>1</td>\n",
              "      <td>2</td>\n",
              "    </tr>\n",
              "    <tr>\n",
              "      <th>3</th>\n",
              "      <td>191</td>\n",
              "      <td>65-69 years</td>\n",
              "      <td>67</td>\n",
              "      <td>1992</td>\n",
              "      <td>0</td>\n",
              "      <td>White</td>\n",
              "      <td>Non-Spanish-Hispanic-Latino</td>\n",
              "      <td>White</td>\n",
              "      <td>Non-Spanish-Hispanic-Latino</td>\n",
              "      <td>CA: San Francisco County (06075)</td>\n",
              "      <td>...</td>\n",
              "      <td>Dead</td>\n",
              "      <td>0</td>\n",
              "      <td>1</td>\n",
              "      <td>0</td>\n",
              "      <td>1</td>\n",
              "      <td>0</td>\n",
              "      <td>0</td>\n",
              "      <td>0</td>\n",
              "      <td>1</td>\n",
              "      <td>2</td>\n",
              "    </tr>\n",
              "    <tr>\n",
              "      <th>4</th>\n",
              "      <td>206</td>\n",
              "      <td>80-84 years</td>\n",
              "      <td>81</td>\n",
              "      <td>1997</td>\n",
              "      <td>0</td>\n",
              "      <td>White</td>\n",
              "      <td>Non-Spanish-Hispanic-Latino</td>\n",
              "      <td>White</td>\n",
              "      <td>Non-Spanish-Hispanic-Latino</td>\n",
              "      <td>CA: San Francisco County (06075)</td>\n",
              "      <td>...</td>\n",
              "      <td>Dead</td>\n",
              "      <td>0</td>\n",
              "      <td>0</td>\n",
              "      <td>0</td>\n",
              "      <td>0</td>\n",
              "      <td>0</td>\n",
              "      <td>0</td>\n",
              "      <td>1</td>\n",
              "      <td>1</td>\n",
              "      <td>0</td>\n",
              "    </tr>\n",
              "  </tbody>\n",
              "</table>\n",
              "<p>5 rows × 33 columns</p>\n",
              "</div>"
            ],
            "text/plain": [
              "   Patient ID Age recode with <1 year olds  Age at diagnosis  \\\n",
              "0           9                  45-49 years                47   \n",
              "1          47                  35-39 years                39   \n",
              "2         135                  70-74 years                72   \n",
              "3         191                  65-69 years                67   \n",
              "4         206                  80-84 years                81   \n",
              "\n",
              "   Year of diagnosis  Sex   Race/ethnicity     NHIA Derived Hisp Origin  \\\n",
              "0               1992    1  Laotian (1988+)  Non-Spanish-Hispanic-Latino   \n",
              "1               1992    0            White  Non-Spanish-Hispanic-Latino   \n",
              "2               1989    0            White  Non-Spanish-Hispanic-Latino   \n",
              "3               1992    0            White  Non-Spanish-Hispanic-Latino   \n",
              "4               1997    0            White  Non-Spanish-Hispanic-Latino   \n",
              "\n",
              "  Race recode (W, B, AI, API) Origin recode NHIA (Hispanic, Non-Hisp)  \\\n",
              "0   Asian or Pacific Islander             Non-Spanish-Hispanic-Latino   \n",
              "1                       White             Non-Spanish-Hispanic-Latino   \n",
              "2                       White             Non-Spanish-Hispanic-Latino   \n",
              "3                       White             Non-Spanish-Hispanic-Latino   \n",
              "4                       White             Non-Spanish-Hispanic-Latino   \n",
              "\n",
              "                       State-county             ...              \\\n",
              "0        CA: Alameda County (06001)             ...               \n",
              "1   CA: Contra Costa County (06013)             ...               \n",
              "2        CA: Alameda County (06001)             ...               \n",
              "3  CA: San Francisco County (06075)             ...               \n",
              "4  CA: San Francisco County (06075)             ...               \n",
              "\n",
              "  Vital status recode (study cutoff used) Lived_5_and_above Chemotherapy  \\\n",
              "0                                    Dead                 1            0   \n",
              "1                                    Dead                 0            1   \n",
              "2                                    Dead                 0            0   \n",
              "3                                    Dead                 0            1   \n",
              "4                                    Dead                 0            0   \n",
              "\n",
              "  Radiation_refused Radiation_performed  \\\n",
              "0                 0                   1   \n",
              "1                 0                   0   \n",
              "2                 0                   0   \n",
              "3                 0                   1   \n",
              "4                 0                   0   \n",
              "\n",
              "   Surgery_recommended_but_not_performed  Surgery_performed  \\\n",
              "0                                      0                  0   \n",
              "1                                      0                  0   \n",
              "2                                      0                  0   \n",
              "3                                      0                  0   \n",
              "4                                      0                  0   \n",
              "\n",
              "  Surgery_not_recommended Surgery_status_unknown cancer_stage_critical_level  \n",
              "0                       0                      1                           1  \n",
              "1                       0                      1                           2  \n",
              "2                       0                      1                           2  \n",
              "3                       0                      1                           2  \n",
              "4                       1                      1                           0  \n",
              "\n",
              "[5 rows x 33 columns]"
            ]
          },
          "metadata": {
            "tags": []
          },
          "execution_count": 4
        }
      ]
    },
    {
      "cell_type": "code",
      "metadata": {
        "id": "CvaHb2FbNXmG",
        "colab_type": "code",
        "outputId": "43b9e603-96e7-42de-d39c-5a2e78001d6b",
        "colab": {
          "base_uri": "https://localhost:8080/",
          "height": 34
        }
      },
      "source": [
        "data.shape"
      ],
      "execution_count": 0,
      "outputs": [
        {
          "output_type": "execute_result",
          "data": {
            "text/plain": [
              "(933320, 33)"
            ]
          },
          "metadata": {
            "tags": []
          },
          "execution_count": 29
        }
      ]
    },
    {
      "cell_type": "code",
      "metadata": {
        "id": "pbEA2HwINkJk",
        "colab_type": "code",
        "outputId": "3969a986-c11a-4a7b-9821-32af83907ebd",
        "colab": {
          "base_uri": "https://localhost:8080/",
          "height": 606
        }
      },
      "source": [
        "data.dtypes"
      ],
      "execution_count": 0,
      "outputs": [
        {
          "output_type": "execute_result",
          "data": {
            "text/plain": [
              "Patient ID                                   int64\n",
              "Age recode with <1 year olds                object\n",
              "Age at diagnosis                             int64\n",
              "Year of diagnosis                            int64\n",
              "Sex                                          int64\n",
              "Race/ethnicity                              object\n",
              "NHIA Derived Hisp Origin                    object\n",
              "Race recode (W, B, AI, API)                 object\n",
              "Origin recode NHIA (Hispanic, Non-Hisp)     object\n",
              "State-county                                object\n",
              "Grade                                       object\n",
              "Laterality                                  object\n",
              "CS Tumor Size/Ext Eval (2004+)              object\n",
              "CS Reg Node Eval (2004+)                    object\n",
              "CS Mets Eval (2004+)                        object\n",
              "Regional nodes examined (1988+)              int64\n",
              "Regional nodes positive (1988+)              int64\n",
              "Radiation sequence with surgery             object\n",
              "Reason no cancer-directed surgery           object\n",
              "Radiation recode                            object\n",
              "Chemotherapy recode (yes, no/unk)           object\n",
              "Survival months                            float64\n",
              "COD to site rec KM                          object\n",
              "Vital status recode (study cutoff used)     object\n",
              "Lived_5_and_above                            int64\n",
              "Chemotherapy                                 int64\n",
              "Radiation_refused                            int64\n",
              "Radiation_performed                          int64\n",
              "Surgery_recommended_but_not_performed        int64\n",
              "Surgery_performed                            int64\n",
              "Surgery_not_recommended                      int64\n",
              "Surgery_status_unknown                       int64\n",
              "cancer_stage_critical_level                  int64\n",
              "dtype: object"
            ]
          },
          "metadata": {
            "tags": []
          },
          "execution_count": 30
        }
      ]
    },
    {
      "cell_type": "code",
      "metadata": {
        "id": "slIlxdTFNuF3",
        "colab_type": "code",
        "outputId": "4319115b-82c3-449f-d497-64e7df7a8907",
        "colab": {
          "base_uri": "https://localhost:8080/",
          "height": 589
        }
      },
      "source": [
        "list(data.columns.values)"
      ],
      "execution_count": 0,
      "outputs": [
        {
          "output_type": "execute_result",
          "data": {
            "text/plain": [
              "['Patient ID',\n",
              " 'Age recode with <1 year olds',\n",
              " 'Age at diagnosis',\n",
              " 'Year of diagnosis',\n",
              " 'Sex',\n",
              " 'Race/ethnicity',\n",
              " 'NHIA Derived Hisp Origin',\n",
              " 'Race recode (W, B, AI, API)',\n",
              " 'Origin recode NHIA (Hispanic, Non-Hisp)',\n",
              " 'State-county',\n",
              " 'Grade',\n",
              " 'Laterality',\n",
              " 'CS Tumor Size/Ext Eval (2004+)',\n",
              " 'CS Reg Node Eval (2004+)',\n",
              " 'CS Mets Eval (2004+)',\n",
              " 'Regional nodes examined (1988+)',\n",
              " 'Regional nodes positive (1988+)',\n",
              " 'Radiation sequence with surgery',\n",
              " 'Reason no cancer-directed surgery',\n",
              " 'Radiation recode',\n",
              " 'Chemotherapy recode (yes, no/unk)',\n",
              " 'Survival months',\n",
              " 'COD to site rec KM',\n",
              " 'Vital status recode (study cutoff used)',\n",
              " 'Lived_5_and_above',\n",
              " 'Chemotherapy',\n",
              " 'Radiation_refused',\n",
              " 'Radiation_performed',\n",
              " 'Surgery_recommended_but_not_performed',\n",
              " 'Surgery_performed',\n",
              " 'Surgery_not_recommended',\n",
              " 'Surgery_status_unknown',\n",
              " 'cancer_stage_critical_level']"
            ]
          },
          "metadata": {
            "tags": []
          },
          "execution_count": 7
        }
      ]
    },
    {
      "cell_type": "code",
      "metadata": {
        "id": "nU8Oe7dvP00X",
        "colab_type": "code",
        "outputId": "8347bb54-04e9-4bb8-f03b-8c48e47dc4b7",
        "colab": {
          "base_uri": "https://localhost:8080/",
          "height": 274
        }
      },
      "source": [
        "df = data.drop([\n",
        " \n",
        " 'Patient ID',\n",
        " 'Age recode with <1 year olds',\n",
        "    'Race/ethnicity',\n",
        " 'NHIA Derived Hisp Origin',\n",
        " 'Race recode (W, B, AI, API)',\n",
        " 'Origin recode NHIA (Hispanic, Non-Hisp)',\n",
        " 'State-county',\n",
        " 'Grade',\n",
        " 'Laterality',\n",
        " 'CS Tumor Size/Ext Eval (2004+)',\n",
        " 'CS Reg Node Eval (2004+)',\n",
        " 'CS Mets Eval (2004+)',\n",
        "     'Radiation sequence with surgery',\n",
        " 'Reason no cancer-directed surgery',\n",
        " 'Radiation recode',\n",
        " 'Chemotherapy recode (yes, no/unk)',\n",
        "     'COD to site rec KM',\n",
        " 'Vital status recode (study cutoff used)',\n",
        "    ], axis = 1)\n",
        "df.head()\n"
      ],
      "execution_count": 0,
      "outputs": [
        {
          "output_type": "execute_result",
          "data": {
            "text/html": [
              "<div>\n",
              "<style scoped>\n",
              "    .dataframe tbody tr th:only-of-type {\n",
              "        vertical-align: middle;\n",
              "    }\n",
              "\n",
              "    .dataframe tbody tr th {\n",
              "        vertical-align: top;\n",
              "    }\n",
              "\n",
              "    .dataframe thead th {\n",
              "        text-align: right;\n",
              "    }\n",
              "</style>\n",
              "<table border=\"1\" class=\"dataframe\">\n",
              "  <thead>\n",
              "    <tr style=\"text-align: right;\">\n",
              "      <th></th>\n",
              "      <th>Age at diagnosis</th>\n",
              "      <th>Year of diagnosis</th>\n",
              "      <th>Sex</th>\n",
              "      <th>Regional nodes examined (1988+)</th>\n",
              "      <th>Regional nodes positive (1988+)</th>\n",
              "      <th>Survival months</th>\n",
              "      <th>Lived_5_and_above</th>\n",
              "      <th>Chemotherapy</th>\n",
              "      <th>Radiation_refused</th>\n",
              "      <th>Radiation_performed</th>\n",
              "      <th>Surgery_recommended_but_not_performed</th>\n",
              "      <th>Surgery_performed</th>\n",
              "      <th>Surgery_not_recommended</th>\n",
              "      <th>Surgery_status_unknown</th>\n",
              "      <th>cancer_stage_critical_level</th>\n",
              "    </tr>\n",
              "  </thead>\n",
              "  <tbody>\n",
              "    <tr>\n",
              "      <th>0</th>\n",
              "      <td>47</td>\n",
              "      <td>1992</td>\n",
              "      <td>1</td>\n",
              "      <td>18</td>\n",
              "      <td>0</td>\n",
              "      <td>147.0</td>\n",
              "      <td>1</td>\n",
              "      <td>0</td>\n",
              "      <td>0</td>\n",
              "      <td>1</td>\n",
              "      <td>0</td>\n",
              "      <td>0</td>\n",
              "      <td>0</td>\n",
              "      <td>1</td>\n",
              "      <td>1</td>\n",
              "    </tr>\n",
              "    <tr>\n",
              "      <th>1</th>\n",
              "      <td>39</td>\n",
              "      <td>1992</td>\n",
              "      <td>0</td>\n",
              "      <td>1</td>\n",
              "      <td>1</td>\n",
              "      <td>20.0</td>\n",
              "      <td>0</td>\n",
              "      <td>1</td>\n",
              "      <td>0</td>\n",
              "      <td>0</td>\n",
              "      <td>0</td>\n",
              "      <td>0</td>\n",
              "      <td>0</td>\n",
              "      <td>1</td>\n",
              "      <td>2</td>\n",
              "    </tr>\n",
              "    <tr>\n",
              "      <th>2</th>\n",
              "      <td>72</td>\n",
              "      <td>1989</td>\n",
              "      <td>0</td>\n",
              "      <td>0</td>\n",
              "      <td>98</td>\n",
              "      <td>2.0</td>\n",
              "      <td>0</td>\n",
              "      <td>0</td>\n",
              "      <td>0</td>\n",
              "      <td>0</td>\n",
              "      <td>0</td>\n",
              "      <td>0</td>\n",
              "      <td>0</td>\n",
              "      <td>1</td>\n",
              "      <td>2</td>\n",
              "    </tr>\n",
              "    <tr>\n",
              "      <th>3</th>\n",
              "      <td>67</td>\n",
              "      <td>1992</td>\n",
              "      <td>0</td>\n",
              "      <td>0</td>\n",
              "      <td>98</td>\n",
              "      <td>32.0</td>\n",
              "      <td>0</td>\n",
              "      <td>1</td>\n",
              "      <td>0</td>\n",
              "      <td>1</td>\n",
              "      <td>0</td>\n",
              "      <td>0</td>\n",
              "      <td>0</td>\n",
              "      <td>1</td>\n",
              "      <td>2</td>\n",
              "    </tr>\n",
              "    <tr>\n",
              "      <th>4</th>\n",
              "      <td>81</td>\n",
              "      <td>1997</td>\n",
              "      <td>0</td>\n",
              "      <td>99</td>\n",
              "      <td>99</td>\n",
              "      <td>0.0</td>\n",
              "      <td>0</td>\n",
              "      <td>0</td>\n",
              "      <td>0</td>\n",
              "      <td>0</td>\n",
              "      <td>0</td>\n",
              "      <td>0</td>\n",
              "      <td>1</td>\n",
              "      <td>1</td>\n",
              "      <td>0</td>\n",
              "    </tr>\n",
              "  </tbody>\n",
              "</table>\n",
              "</div>"
            ],
            "text/plain": [
              "   Age at diagnosis  Year of diagnosis  Sex  Regional nodes examined (1988+)  \\\n",
              "0                47               1992    1                               18   \n",
              "1                39               1992    0                                1   \n",
              "2                72               1989    0                                0   \n",
              "3                67               1992    0                                0   \n",
              "4                81               1997    0                               99   \n",
              "\n",
              "   Regional nodes positive (1988+)  Survival months  Lived_5_and_above  \\\n",
              "0                                0            147.0                  1   \n",
              "1                                1             20.0                  0   \n",
              "2                               98              2.0                  0   \n",
              "3                               98             32.0                  0   \n",
              "4                               99              0.0                  0   \n",
              "\n",
              "   Chemotherapy  Radiation_refused  Radiation_performed  \\\n",
              "0             0                  0                    1   \n",
              "1             1                  0                    0   \n",
              "2             0                  0                    0   \n",
              "3             1                  0                    1   \n",
              "4             0                  0                    0   \n",
              "\n",
              "   Surgery_recommended_but_not_performed  Surgery_performed  \\\n",
              "0                                      0                  0   \n",
              "1                                      0                  0   \n",
              "2                                      0                  0   \n",
              "3                                      0                  0   \n",
              "4                                      0                  0   \n",
              "\n",
              "   Surgery_not_recommended  Surgery_status_unknown  \\\n",
              "0                        0                       1   \n",
              "1                        0                       1   \n",
              "2                        0                       1   \n",
              "3                        0                       1   \n",
              "4                        1                       1   \n",
              "\n",
              "   cancer_stage_critical_level  \n",
              "0                            1  \n",
              "1                            2  \n",
              "2                            2  \n",
              "3                            2  \n",
              "4                            0  "
            ]
          },
          "metadata": {
            "tags": []
          },
          "execution_count": 31
        }
      ]
    },
    {
      "cell_type": "code",
      "metadata": {
        "id": "iNstKz2DQoMm",
        "colab_type": "code",
        "outputId": "3abc52df-d308-4c91-e929-36989c4463c1",
        "colab": {
          "base_uri": "https://localhost:8080/",
          "height": 294
        }
      },
      "source": [
        "## NA value\n",
        "df.isnull().sum() "
      ],
      "execution_count": 0,
      "outputs": [
        {
          "output_type": "execute_result",
          "data": {
            "text/plain": [
              "Age at diagnosis                             0\n",
              "Year of diagnosis                            0\n",
              "Sex                                          0\n",
              "Regional nodes examined (1988+)              0\n",
              "Regional nodes positive (1988+)              0\n",
              "Survival months                          21672\n",
              "Lived_5_and_above                            0\n",
              "Chemotherapy                                 0\n",
              "Radiation_refused                            0\n",
              "Radiation_performed                          0\n",
              "Surgery_recommended_but_not_performed        0\n",
              "Surgery_performed                            0\n",
              "Surgery_not_recommended                      0\n",
              "Surgery_status_unknown                       0\n",
              "cancer_stage_critical_level                  0\n",
              "dtype: int64"
            ]
          },
          "metadata": {
            "tags": []
          },
          "execution_count": 32
        }
      ]
    },
    {
      "cell_type": "code",
      "metadata": {
        "id": "nliMjo2mQ6Zb",
        "colab_type": "code",
        "outputId": "326c61f1-0b88-4642-8e0f-3a77a2ff0539",
        "colab": {
          "base_uri": "https://localhost:8080/",
          "height": 34
        }
      },
      "source": [
        "## delete nul-value\n",
        "df1 = df.dropna()\n",
        "df1.shape"
      ],
      "execution_count": 0,
      "outputs": [
        {
          "output_type": "execute_result",
          "data": {
            "text/plain": [
              "(911648, 15)"
            ]
          },
          "metadata": {
            "tags": []
          },
          "execution_count": 78
        }
      ]
    },
    {
      "cell_type": "code",
      "metadata": {
        "id": "xc_1gfME2EES",
        "colab_type": "code",
        "outputId": "472bfacd-c969-4bcd-be2d-72c41ba5695f",
        "colab": {
          "base_uri": "https://localhost:8080/",
          "height": 300
        }
      },
      "source": [
        "#bins = np.arange(surv.min(), surv.max(), 10)\n",
        "plt.hist(x = df1[\"Survival months\"], bins = 30)\n",
        "plt.title(\"Distribution of Survival months\")"
      ],
      "execution_count": 0,
      "outputs": [
        {
          "output_type": "execute_result",
          "data": {
            "text/plain": [
              "Text(0.5, 1.0, 'Distribution of Survival months')"
            ]
          },
          "metadata": {
            "tags": []
          },
          "execution_count": 85
        },
        {
          "output_type": "display_data",
          "data": {
            "image/png": "[encoded data removed]",
            "text/plain": [
              "<Figure size 432x288 with 1 Axes>"
            ]
          },
          "metadata": {
            "tags": []
          }
        }
      ]
    },
    {
      "cell_type": "markdown",
      "metadata": {
        "id": "JKn-uoq4Y8Ca",
        "colab_type": "text"
      },
      "source": [
        "# **CORRELATION**"
      ]
    },
    {
      "cell_type": "code",
      "metadata": {
        "id": "P8G1O8v9ZAIQ",
        "colab_type": "code",
        "outputId": "24e50a15-6ce8-4d74-81a3-ab9d8c467136",
        "colab": {
          "base_uri": "https://localhost:8080/",
          "height": 466
        }
      },
      "source": [
        "\n",
        "# Compute the correlation matrix\n",
        "df2 = df1.drop(['Survival months', \"Surgery_performed\" ], axis = 1)\n",
        "corr=df2.corr()\n",
        "\n",
        "\n",
        "# Generate a mask for the upper triangle\n",
        "mask = np.zeros_like(corr, dtype=np.bool)\n",
        "mask[np.triu_indices_from(mask)] = True\n",
        "\n",
        "\n",
        "\n",
        "# Generate a custom diverging colormap\n",
        "cmap = sns.diverging_palette(220, 10, as_cmap=True)\n",
        "\n",
        "# Draw the heatmap with the mask and correct aspect ratio\n",
        "sns.heatmap(corr, mask=mask, cmap=cmap, vmax=.3, center=0,\n",
        "            square=True, linewidths=.5, cbar_kws={\"shrink\": .5})"
      ],
      "execution_count": 0,
      "outputs": [
        {
          "output_type": "execute_result",
          "data": {
            "text/plain": [
              "<matplotlib.axes._subplots.AxesSubplot at 0x7f863fa0fb38>"
            ]
          },
          "metadata": {
            "tags": []
          },
          "execution_count": 87
        },
        {
          "output_type": "display_data",
          "data": {
            "image/png": "[encoded data removed]",
            "text/plain": [
              "<Figure size 432x288 with 2 Axes>"
            ]
          },
          "metadata": {
            "tags": []
          }
        }
      ]
    },
    {
      "cell_type": "code",
      "metadata": {
        "id": "o3VyTN7t2KUS",
        "colab_type": "code",
        "colab": {}
      },
      "source": [
        "## download df2.scv to local machine to calculate p-value and t-statistics in R\n",
        "df2.to_csv(\"df2.csv\", index=False)\n",
        "from google.colab import files\n",
        "files.download(\"df2.csv\")"
      ],
      "execution_count": 0,
      "outputs": []
    },
    {
      "cell_type": "code",
      "metadata": {
        "id": "9O6o5WyDsrVv",
        "colab_type": "code",
        "outputId": "f756a324-ce23-4b4f-aecf-c57312229087",
        "colab": {
          "base_uri": "https://localhost:8080/",
          "height": 478
        }
      },
      "source": [
        "pd.DataFrame(df2.corr()['Lived_5_and_above'].sort_values(ascending = True))"
      ],
      "execution_count": 0,
      "outputs": [
        {
          "output_type": "execute_result",
          "data": {
            "text/html": [
              "<div>\n",
              "<style scoped>\n",
              "    .dataframe tbody tr th:only-of-type {\n",
              "        vertical-align: middle;\n",
              "    }\n",
              "\n",
              "    .dataframe tbody tr th {\n",
              "        vertical-align: top;\n",
              "    }\n",
              "\n",
              "    .dataframe thead th {\n",
              "        text-align: right;\n",
              "    }\n",
              "</style>\n",
              "<table border=\"1\" class=\"dataframe\">\n",
              "  <thead>\n",
              "    <tr style=\"text-align: right;\">\n",
              "      <th></th>\n",
              "      <th>Lived_5_and_above</th>\n",
              "    </tr>\n",
              "  </thead>\n",
              "  <tbody>\n",
              "    <tr>\n",
              "      <th>Regional nodes positive (1988+)</th>\n",
              "      <td>-0.416422</td>\n",
              "    </tr>\n",
              "    <tr>\n",
              "      <th>cancer_stage_critical_level</th>\n",
              "      <td>-0.332265</td>\n",
              "    </tr>\n",
              "    <tr>\n",
              "      <th>Age at diagnosis</th>\n",
              "      <td>-0.129134</td>\n",
              "    </tr>\n",
              "    <tr>\n",
              "      <th>Radiation_performed</th>\n",
              "      <td>-0.109676</td>\n",
              "    </tr>\n",
              "    <tr>\n",
              "      <th>Chemotherapy</th>\n",
              "      <td>-0.083421</td>\n",
              "    </tr>\n",
              "    <tr>\n",
              "      <th>Year of diagnosis</th>\n",
              "      <td>-0.071698</td>\n",
              "    </tr>\n",
              "    <tr>\n",
              "      <th>Surgery_recommended_but_not_performed</th>\n",
              "      <td>-0.069571</td>\n",
              "    </tr>\n",
              "    <tr>\n",
              "      <th>Sex</th>\n",
              "      <td>-0.069370</td>\n",
              "    </tr>\n",
              "    <tr>\n",
              "      <th>Surgery_not_recommended</th>\n",
              "      <td>-0.052094</td>\n",
              "    </tr>\n",
              "    <tr>\n",
              "      <th>Radiation_refused</th>\n",
              "      <td>-0.037298</td>\n",
              "    </tr>\n",
              "    <tr>\n",
              "      <th>Surgery_status_unknown</th>\n",
              "      <td>0.021959</td>\n",
              "    </tr>\n",
              "    <tr>\n",
              "      <th>Regional nodes examined (1988+)</th>\n",
              "      <td>0.073867</td>\n",
              "    </tr>\n",
              "    <tr>\n",
              "      <th>Lived_5_and_above</th>\n",
              "      <td>1.000000</td>\n",
              "    </tr>\n",
              "    <tr>\n",
              "      <th>Surgery_performed</th>\n",
              "      <td>NaN</td>\n",
              "    </tr>\n",
              "  </tbody>\n",
              "</table>\n",
              "</div>"
            ],
            "text/plain": [
              "                                       Lived_5_and_above\n",
              "Regional nodes positive (1988+)                -0.416422\n",
              "cancer_stage_critical_level                    -0.332265\n",
              "Age at diagnosis                               -0.129134\n",
              "Radiation_performed                            -0.109676\n",
              "Chemotherapy                                   -0.083421\n",
              "Year of diagnosis                              -0.071698\n",
              "Surgery_recommended_but_not_performed          -0.069571\n",
              "Sex                                            -0.069370\n",
              "Surgery_not_recommended                        -0.052094\n",
              "Radiation_refused                              -0.037298\n",
              "Surgery_status_unknown                          0.021959\n",
              "Regional nodes examined (1988+)                 0.073867\n",
              "Lived_5_and_above                               1.000000\n",
              "Surgery_performed                                    NaN"
            ]
          },
          "metadata": {
            "tags": []
          },
          "execution_count": 52
        }
      ]
    },
    {
      "cell_type": "code",
      "metadata": {
        "id": "iCtXOn8jdUCJ",
        "colab_type": "code",
        "outputId": "e5b3b1b3-0ed6-4c01-f851-9b6ae7ea9ec9",
        "colab": {
          "base_uri": "https://localhost:8080/",
          "height": 466
        }
      },
      "source": [
        "corr3 =df2.corr()\n",
        "cmap = sns.diverging_palette(220,10, as_cmap=True)\n",
        "sns.heatmap(corr3, cmap = cmap,\n",
        "            xticklabels=corr3.columns.values,\n",
        "            yticklabels=corr3.columns.values)"
      ],
      "execution_count": 0,
      "outputs": [
        {
          "output_type": "execute_result",
          "data": {
            "text/plain": [
              "<matplotlib.axes._subplots.AxesSubplot at 0x7f863f742cc0>"
            ]
          },
          "metadata": {
            "tags": []
          },
          "execution_count": 93
        },
        {
          "output_type": "display_data",
          "data": {
            "image/png": "[encoded data removed]",
            "text/plain": [
              "<Figure size 432x288 with 2 Axes>"
            ]
          },
          "metadata": {
            "tags": []
          }
        }
      ]
    },
    {
      "cell_type": "code",
      "metadata": {
        "id": "Kms2aQpwQ7mw",
        "colab_type": "code",
        "outputId": "fa50e9b6-9fe5-43b1-e991-acb777635f2c",
        "colab": {
          "base_uri": "https://localhost:8080/",
          "height": 693
        }
      },
      "source": [
        "## DEPENDENT / INDEPENDENT VARIABLE SELECTION\n",
        "\n",
        "X = df1.drop(['Survival months', \"Lived_5_and_above\"], axis = 1)\n",
        "y = df1[\"Lived_5_and_above\"]\n",
        "X.head(), y.head()\n"
      ],
      "execution_count": 0,
      "outputs": [
        {
          "output_type": "execute_result",
          "data": {
            "text/plain": [
              "(   Age at diagnosis  Year of diagnosis  Sex  Regional nodes examined (1988+)  \\\n",
              " 0                47               1992    1                               18   \n",
              " 1                39               1992    0                                1   \n",
              " 2                72               1989    0                                0   \n",
              " 3                67               1992    0                                0   \n",
              " 4                81               1997    0                               99   \n",
              " \n",
              "    Regional nodes positive (1988+)  Chemotherapy  Radiation_refused  \\\n",
              " 0                                0             0                  0   \n",
              " 1                                1             1                  0   \n",
              " 2                               98             0                  0   \n",
              " 3                               98             1                  0   \n",
              " 4                               99             0                  0   \n",
              " \n",
              "    Radiation_performed  Surgery_recommended_but_not_performed  \\\n",
              " 0                    1                                      0   \n",
              " 1                    0                                      0   \n",
              " 2                    0                                      0   \n",
              " 3                    1                                      0   \n",
              " 4                    0                                      0   \n",
              " \n",
              "    Surgery_performed  Surgery_not_recommended  Surgery_status_unknown  \\\n",
              " 0                  0                        0                       1   \n",
              " 1                  0                        0                       1   \n",
              " 2                  0                        0                       1   \n",
              " 3                  0                        0                       1   \n",
              " 4                  0                        1                       1   \n",
              " \n",
              "    cancer_stage_critical_level  \n",
              " 0                            1  \n",
              " 1                            2  \n",
              " 2                            2  \n",
              " 3                            2  \n",
              " 4                            0  , 0    1\n",
              " 1    0\n",
              " 2    0\n",
              " 3    0\n",
              " 4    0\n",
              " Name: Lived_5_and_above, dtype: int64)"
            ]
          },
          "metadata": {
            "tags": []
          },
          "execution_count": 37
        }
      ]
    },
    {
      "cell_type": "code",
      "metadata": {
        "id": "JYL8cdIrRZDn",
        "colab_type": "code",
        "outputId": "6e078889-97bc-43b4-e27a-93a2c0b8d469",
        "colab": {
          "base_uri": "https://localhost:8080/",
          "height": 34
        }
      },
      "source": [
        "## SPLIT the data \n",
        "\n",
        "from sklearn.model_selection import train_test_split\n",
        "X_train, X_test, y_train, y_test = train_test_split(X, y, test_size =0.2, random_state=1)\n",
        "X_train.shape, y_train.shape\n"
      ],
      "execution_count": 0,
      "outputs": [
        {
          "output_type": "execute_result",
          "data": {
            "text/plain": [
              "((729318, 13), (729318,))"
            ]
          },
          "metadata": {
            "tags": []
          },
          "execution_count": 38
        }
      ]
    },
    {
      "cell_type": "markdown",
      "metadata": {
        "id": "KzCC-igXBVgP",
        "colab_type": "text"
      },
      "source": [
        "# **MODELLING **"
      ]
    },
    {
      "cell_type": "markdown",
      "metadata": {
        "id": "ff2Bx-YBtv0J",
        "colab_type": "text"
      },
      "source": [
        "![alt text](https://scikit-learn.org/stable/_static/ml_map.png)"
      ]
    },
    {
      "cell_type": "markdown",
      "metadata": {
        "id": "cKhsv2nVBkns",
        "colab_type": "text"
      },
      "source": [
        "##MODELING with RANDOM FOREST "
      ]
    },
    {
      "cell_type": "code",
      "metadata": {
        "id": "HCC4bW-oT3kn",
        "colab_type": "code",
        "colab": {}
      },
      "source": [
        "## 1MODELING with RANDOM FOREST \n",
        "\n",
        "from sklearn.ensemble import RandomForestClassifier\n"
      ],
      "execution_count": 0,
      "outputs": []
    },
    {
      "cell_type": "code",
      "metadata": {
        "id": "II8oM62ZT9by",
        "colab_type": "code",
        "outputId": "84d7d403-4a9e-4aa9-a300-97aa30a0dbbd",
        "colab": {
          "base_uri": "https://localhost:8080/",
          "height": 34
        }
      },
      "source": [
        "clf = RandomForestClassifier(n_estimators=13)\n",
        "clf.fit(X_train, y_train)\n",
        "predictions = clf.predict(X_test)\n",
        "predictions"
      ],
      "execution_count": 0,
      "outputs": [
        {
          "output_type": "execute_result",
          "data": {
            "text/plain": [
              "array([0, 0, 0, ..., 0, 0, 0])"
            ]
          },
          "metadata": {
            "tags": []
          },
          "execution_count": 40
        }
      ]
    },
    {
      "cell_type": "code",
      "metadata": {
        "id": "9m8XFZkcUvB9",
        "colab_type": "code",
        "colab": {}
      },
      "source": [
        "prediction = pd.DataFrame({\n",
        "        \"5 yrs_fact\": y_test,\n",
        "        \"5 yrs predicted\": predictions\n",
        "    })"
      ],
      "execution_count": 0,
      "outputs": []
    },
    {
      "cell_type": "code",
      "metadata": {
        "id": "QQ7GZ5cYWtsL",
        "colab_type": "code",
        "outputId": "1074c74c-629f-45eb-cc24-3f718ef9596b",
        "colab": {
          "base_uri": "https://localhost:8080/",
          "height": 34
        }
      },
      "source": [
        "prediction.shape"
      ],
      "execution_count": 0,
      "outputs": [
        {
          "output_type": "execute_result",
          "data": {
            "text/plain": [
              "(182330, 2)"
            ]
          },
          "metadata": {
            "tags": []
          },
          "execution_count": 42
        }
      ]
    },
    {
      "cell_type": "code",
      "metadata": {
        "id": "mpV0eGlUUy_9",
        "colab_type": "code",
        "outputId": "141c59f5-7dd0-4570-ef75-98c741e473c5",
        "colab": {
          "base_uri": "https://localhost:8080/",
          "height": 34
        }
      },
      "source": [
        "clf.score(X_test, y_test)"
      ],
      "execution_count": 0,
      "outputs": [
        {
          "output_type": "execute_result",
          "data": {
            "text/plain": [
              "0.8956178357922449"
            ]
          },
          "metadata": {
            "tags": []
          },
          "execution_count": 43
        }
      ]
    },
    {
      "cell_type": "markdown",
      "metadata": {
        "id": "CY03ssVzClfg",
        "colab_type": "text"
      },
      "source": [
        "## **The accuracy of the Random Forest classification is 89%**"
      ]
    },
    {
      "cell_type": "code",
      "metadata": {
        "id": "sHfCI59TU5fW",
        "colab_type": "code",
        "outputId": "079b1010-7130-423a-87f1-326d4882f10a",
        "colab": {
          "base_uri": "https://localhost:8080/",
          "height": 356
        }
      },
      "source": [
        "prediction.head(10)"
      ],
      "execution_count": 0,
      "outputs": [
        {
          "output_type": "execute_result",
          "data": {
            "text/html": [
              "<div>\n",
              "<style scoped>\n",
              "    .dataframe tbody tr th:only-of-type {\n",
              "        vertical-align: middle;\n",
              "    }\n",
              "\n",
              "    .dataframe tbody tr th {\n",
              "        vertical-align: top;\n",
              "    }\n",
              "\n",
              "    .dataframe thead th {\n",
              "        text-align: right;\n",
              "    }\n",
              "</style>\n",
              "<table border=\"1\" class=\"dataframe\">\n",
              "  <thead>\n",
              "    <tr style=\"text-align: right;\">\n",
              "      <th></th>\n",
              "      <th>5 yrs predicted</th>\n",
              "      <th>5 yrs_fact</th>\n",
              "    </tr>\n",
              "  </thead>\n",
              "  <tbody>\n",
              "    <tr>\n",
              "      <th>117290</th>\n",
              "      <td>0</td>\n",
              "      <td>0</td>\n",
              "    </tr>\n",
              "    <tr>\n",
              "      <th>477061</th>\n",
              "      <td>0</td>\n",
              "      <td>0</td>\n",
              "    </tr>\n",
              "    <tr>\n",
              "      <th>63309</th>\n",
              "      <td>0</td>\n",
              "      <td>0</td>\n",
              "    </tr>\n",
              "    <tr>\n",
              "      <th>417915</th>\n",
              "      <td>0</td>\n",
              "      <td>0</td>\n",
              "    </tr>\n",
              "    <tr>\n",
              "      <th>735904</th>\n",
              "      <td>0</td>\n",
              "      <td>0</td>\n",
              "    </tr>\n",
              "    <tr>\n",
              "      <th>728084</th>\n",
              "      <td>0</td>\n",
              "      <td>0</td>\n",
              "    </tr>\n",
              "    <tr>\n",
              "      <th>65573</th>\n",
              "      <td>0</td>\n",
              "      <td>0</td>\n",
              "    </tr>\n",
              "    <tr>\n",
              "      <th>764133</th>\n",
              "      <td>0</td>\n",
              "      <td>0</td>\n",
              "    </tr>\n",
              "    <tr>\n",
              "      <th>455565</th>\n",
              "      <td>0</td>\n",
              "      <td>0</td>\n",
              "    </tr>\n",
              "    <tr>\n",
              "      <th>65054</th>\n",
              "      <td>0</td>\n",
              "      <td>0</td>\n",
              "    </tr>\n",
              "  </tbody>\n",
              "</table>\n",
              "</div>"
            ],
            "text/plain": [
              "        5 yrs predicted  5 yrs_fact\n",
              "117290                0           0\n",
              "477061                0           0\n",
              "63309                 0           0\n",
              "417915                0           0\n",
              "735904                0           0\n",
              "728084                0           0\n",
              "65573                 0           0\n",
              "764133                0           0\n",
              "455565                0           0\n",
              "65054                 0           0"
            ]
          },
          "metadata": {
            "tags": []
          },
          "execution_count": 44
        }
      ]
    },
    {
      "cell_type": "code",
      "metadata": {
        "id": "BDWL1RGrdW0M",
        "colab_type": "code",
        "outputId": "d0078f12-4a5c-4355-d85f-29700e17804f",
        "colab": {
          "base_uri": "https://localhost:8080/",
          "height": 72
        }
      },
      "source": [
        "import statsmodels.api as sm\n",
        "from scipy import stats"
      ],
      "execution_count": 0,
      "outputs": [
        {
          "output_type": "stream",
          "text": [
            "/usr/local/lib/python3.6/dist-packages/statsmodels/compat/pandas.py:56: FutureWarning: The pandas.core.datetools module is deprecated and will be removed in a future version. Please use the pandas.tseries module instead.\n",
            "  from pandas.core import datetools\n"
          ],
          "name": "stderr"
        }
      ]
    },
    {
      "cell_type": "code",
      "metadata": {
        "id": "IR4SWEFwVLSq",
        "colab_type": "code",
        "colab": {}
      },
      "source": [
        "\n",
        "## CONFUSION MATRIX\n",
        "\n",
        "from yellowbrick.classifier import ConfusionMatrix"
      ],
      "execution_count": 0,
      "outputs": []
    },
    {
      "cell_type": "code",
      "metadata": {
        "id": "9nZFbIdsVlcB",
        "colab_type": "code",
        "outputId": "083c9073-3cde-4138-e331-78e381b7b668",
        "colab": {
          "base_uri": "https://localhost:8080/",
          "height": 373
        }
      },
      "source": [
        "# The ConfusionMatrix visualizer taxes a model\n",
        "cm = ConfusionMatrix(clf, classes=[0,1])\n",
        "\n",
        "# Fit fits the passed model. This is unnecessary if you pass the visualizer a pre-fitted model\n",
        "cm.fit(X_train, y_train)\n",
        "\n",
        "# To create the ConfusionMatrix, we need some test data. Score runs predict() on the data\n",
        "# and then creates the confusion_matrix from scikit-learn.\n",
        "cm.score(X_test, y_test)\n",
        "\n",
        "# How did we do?\n",
        "cm.poof()"
      ],
      "execution_count": 0,
      "outputs": [
        {
          "output_type": "display_data",
          "data": {
            "image/png": "[encoded data removed]",
            "text/plain": [
              "<Figure size 576x396 with 1 Axes>"
            ]
          },
          "metadata": {
            "tags": []
          }
        }
      ]
    },
    {
      "cell_type": "markdown",
      "metadata": {
        "id": "EgKoKxQtBgLQ",
        "colab_type": "text"
      },
      "source": [
        ""
      ]
    },
    {
      "cell_type": "markdown",
      "metadata": {
        "id": "lrI0YAlzBwdd",
        "colab_type": "text"
      },
      "source": [
        "##MODELING with LOGISTIC REGRESSION"
      ]
    },
    {
      "cell_type": "code",
      "metadata": {
        "id": "2JM_-OKlesam",
        "colab_type": "code",
        "colab": {}
      },
      "source": [
        "from sklearn.linear_model import LogisticRegression"
      ],
      "execution_count": 0,
      "outputs": []
    },
    {
      "cell_type": "code",
      "metadata": {
        "id": "M2nkFNSvnoZm",
        "colab_type": "code",
        "outputId": "15e77848-4ca8-4869-8e27-2bb49be405ca",
        "colab": {
          "base_uri": "https://localhost:8080/",
          "height": 410
        }
      },
      "source": [
        "from yellowbrick.classifier import ROCAUC\n",
        "clf2= LogisticRegression()\n",
        "classes=[0,1]\n",
        "\n",
        "# Instantiate the visualizer with the classification model\n",
        "visualizer = ROCAUC(clf2, classes=classes)\n",
        "\n",
        "visualizer.fit(X_train, y_train)  # Fit the training data to the visualizer\n",
        "visualizer.score(X_test, y_test)  # Evaluate the model on the test data\n",
        "g = visualizer.poof()             # Draw/show/poof the data"
      ],
      "execution_count": 0,
      "outputs": [
        {
          "output_type": "stream",
          "text": [
            "/usr/local/lib/python3.6/dist-packages/sklearn/linear_model/logistic.py:433: FutureWarning: Default solver will be changed to 'lbfgs' in 0.22. Specify a solver to silence this warning.\n",
            "  FutureWarning)\n"
          ],
          "name": "stderr"
        },
        {
          "output_type": "display_data",
          "data": {
            "image/png": "[encoded data removed]",
            "text/plain": [
              "<Figure size 576x396 with 1 Axes>"
            ]
          },
          "metadata": {
            "tags": []
          }
        }
      ]
    },
    {
      "cell_type": "markdown",
      "metadata": {
        "id": "LY3k5GibARqM",
        "colab_type": "text"
      },
      "source": [
        "The ROC curves for Logistic Regression classifier are concentrated in the top left corner, which means that true positive rate is almost one while a false positive rate is almost zero. \n",
        "\n",
        "The top left corner of the plot is the “ideal” point - a false positive rate of zero, and a true positive rate of one. This is not very realistic, but it does mean that a larger area under the curve (AUC) is usually better.\n",
        "\n",
        "WE also test p-value and z-value. all of the features are statistically significant\n",
        "\n"
      ]
    },
    {
      "cell_type": "code",
      "metadata": {
        "id": "PGmR7LpGp73H",
        "colab_type": "code",
        "outputId": "fee186b1-e569-448a-dd09-b1261382f8ef",
        "colab": {
          "base_uri": "https://localhost:8080/",
          "height": 34
        }
      },
      "source": [
        "clf2.score(X_test, y_test)"
      ],
      "execution_count": 0,
      "outputs": [
        {
          "output_type": "execute_result",
          "data": {
            "text/plain": [
              "0.900153567706905"
            ]
          },
          "metadata": {
            "tags": []
          },
          "execution_count": 50
        }
      ]
    },
    {
      "cell_type": "code",
      "metadata": {
        "id": "5yWDbbYmI7ZU",
        "colab_type": "code",
        "outputId": "3e365844-80d2-436f-cccf-43a04c2ff09f",
        "colab": {
          "base_uri": "https://localhost:8080/",
          "height": 408
        }
      },
      "source": [
        "cm2 = ConfusionMatrix(clf2, classes=[0,1])\n",
        "\n",
        "# Fit fits the passed model. This is unnecessary if you pass the visualizer a pre-fitted model\n",
        "cm2.fit(X_train, y_train)\n",
        "\n",
        "# To create the ConfusionMatrix, we need some test data. Score runs predict() on the data\n",
        "# and then creates the confusion_matrix from scikit-learn.\n",
        "cm2.score(X_test, y_test)\n",
        "\n",
        "# How did we do?\n",
        "cm2.poof()"
      ],
      "execution_count": 0,
      "outputs": [
        {
          "output_type": "stream",
          "text": [
            "/usr/local/lib/python3.6/dist-packages/sklearn/linear_model/logistic.py:433: FutureWarning: Default solver will be changed to 'lbfgs' in 0.22. Specify a solver to silence this warning.\n",
            "  FutureWarning)\n"
          ],
          "name": "stderr"
        },
        {
          "output_type": "display_data",
          "data": {
            "image/png": "[encoded data removed]",
            "text/plain": [
              "<Figure size 576x396 with 1 Axes>"
            ]
          },
          "metadata": {
            "tags": []
          }
        }
      ]
    },
    {
      "cell_type": "markdown",
      "metadata": {
        "id": "m9WibwmzCD1T",
        "colab_type": "text"
      },
      "source": [
        "## **The accuracy of the  Logistic Regression classification is 90%**"
      ]
    },
    {
      "cell_type": "markdown",
      "metadata": {
        "id": "Jv07YaB2BG4B",
        "colab_type": "text"
      },
      "source": [
        "\n",
        "\n",
        "\n",
        "## **SCIKIT- LEARN  cheat sheet recomended SGD Classifier. **\n",
        "##MODELING with SGD CLASSIFIER"
      ]
    },
    {
      "cell_type": "code",
      "metadata": {
        "id": "lXl3P8FCu7r6",
        "colab_type": "code",
        "outputId": "60fba994-1194-47dd-9ee5-a8df767300ad",
        "colab": {
          "base_uri": "https://localhost:8080/",
          "height": 72
        }
      },
      "source": [
        "## SGD CLASSIFIER AS \n",
        "from sklearn.linear_model import SGDClassifier\n",
        "clf3 = SGDClassifier()\n",
        "# fit (train) the classifier\n",
        "clf3.fit(X_train, y_train)\n",
        "predictions = clf3.predict(X_test)\n",
        "prediction = pd.DataFrame({\n",
        "        \"5 yrs_fact\": y_test,\n",
        "        \"5 yrs predicted\": predictions\n",
        "    })"
      ],
      "execution_count": 0,
      "outputs": [
        {
          "output_type": "stream",
          "text": [
            "/usr/local/lib/python3.6/dist-packages/sklearn/linear_model/stochastic_gradient.py:166: FutureWarning: max_iter and tol parameters have been added in SGDClassifier in 0.19. If both are left unset, they default to max_iter=5 and tol=None. If tol is not None, max_iter defaults to max_iter=1000. From 0.21, default max_iter will be 1000, and default tol will be 1e-3.\n",
            "  FutureWarning)\n"
          ],
          "name": "stderr"
        }
      ]
    },
    {
      "cell_type": "code",
      "metadata": {
        "id": "OcgoP7KjvTsN",
        "colab_type": "code",
        "outputId": "7858a3cc-fb97-4ed7-98e9-b08974c9051e",
        "colab": {
          "base_uri": "https://localhost:8080/",
          "height": 34
        }
      },
      "source": [
        "clf3.score(X_test, y_test)"
      ],
      "execution_count": 0,
      "outputs": [
        {
          "output_type": "execute_result",
          "data": {
            "text/plain": [
              "0.8873964789118631"
            ]
          },
          "metadata": {
            "tags": []
          },
          "execution_count": 57
        }
      ]
    },
    {
      "cell_type": "markdown",
      "metadata": {
        "id": "q3wDm_KqCKUa",
        "colab_type": "text"
      },
      "source": [
        "## **The accuracy of the SGD classification is 89%**"
      ]
    },
    {
      "cell_type": "code",
      "metadata": {
        "id": "egQocJX9vNzI",
        "colab_type": "code",
        "outputId": "b4ddf790-bb22-43b5-988f-b2de78cab6a0",
        "colab": {
          "base_uri": "https://localhost:8080/",
          "height": 428
        }
      },
      "source": [
        "# The ConfusionMatrix visualizer taxes a model\n",
        "cm = ConfusionMatrix(clf3, classes=[0,1])\n",
        "\n",
        "# Fit fits the passed model. This is unnecessary if you pass the visualizer a pre-fitted model\n",
        "cm.fit(X_train, y_train)\n",
        "\n",
        "# To create the ConfusionMatrix, we need some test data. Score runs predict() on the data\n",
        "# and then creates the confusion_matrix from scikit-learn.\n",
        "cm.score(X_test, y_test)\n",
        "\n",
        "# How did we do?\n",
        "cm.poof()"
      ],
      "execution_count": 0,
      "outputs": [
        {
          "output_type": "stream",
          "text": [
            "/usr/local/lib/python3.6/dist-packages/sklearn/linear_model/stochastic_gradient.py:166: FutureWarning: max_iter and tol parameters have been added in SGDClassifier in 0.19. If both are left unset, they default to max_iter=5 and tol=None. If tol is not None, max_iter defaults to max_iter=1000. From 0.21, default max_iter will be 1000, and default tol will be 1e-3.\n",
            "  FutureWarning)\n"
          ],
          "name": "stderr"
        },
        {
          "output_type": "display_data",
          "data": {
            "image/png": "[encoded data removed]",
            "text/plain": [
              "<Figure size 576x396 with 1 Axes>"
            ]
          },
          "metadata": {
            "tags": []
          }
        }
      ]
    },
    {
      "cell_type": "code",
      "metadata": {
        "id": "be7agjEHwaEs",
        "colab_type": "code",
        "outputId": "885f1158-6211-40b7-ad48-9d52ca5c8430",
        "colab": {
          "base_uri": "https://localhost:8080/",
          "height": 104
        }
      },
      "source": [
        "print (clf3.coef_)\n",
        "print (clf3.intercept_)"
      ],
      "execution_count": 0,
      "outputs": [
        {
          "output_type": "stream",
          "text": [
            "[[-4.74368137e+01  4.98411416e+00 -8.93850705e+01  4.38645911e-01\n",
            "  -6.96131061e+01 -8.49876453e+01 -6.86755004e+00 -9.01417347e+01\n",
            "  -1.18873042e+01  0.00000000e+00 -9.51313320e+00  2.08082654e+00\n",
            "  -4.39775424e+02]]\n",
            "[-1.4500308]\n"
          ],
          "name": "stdout"
        }
      ]
    },
    {
      "cell_type": "markdown",
      "metadata": {
        "id": "RwmyMbPvDFfQ",
        "colab_type": "text"
      },
      "source": [
        "SGD  classifier model is more \"pessimistic\":  meaning \"FALSE POSITIVE\" rate is higher comparing to RANDOM FOREST models\n",
        "RANDOM FOREST  classifier model is more optimisitc than SGD:  meaning more \"FALSE NEGATIVE\" is higher than in SGD classifier\n",
        "\n",
        "# **RECOMMENDATION**: The end user of this prediction model should decide which one is more appropriate: pessimistic approach (overestimate the risk of cancer)  or optimistic (underestimate the risk of cancer)\n"
      ]
    }
  ]
}